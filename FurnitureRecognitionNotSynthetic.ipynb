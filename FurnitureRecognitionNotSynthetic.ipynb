{
 "cells": [
  {
   "cell_type": "code",
   "execution_count": 1,
   "id": "0fd05f21",
   "metadata": {},
   "outputs": [
    {
     "name": "stderr",
     "output_type": "stream",
     "text": [
      "C:\\Users\\getto\\miniconda3\\Lib\\site-packages\\tqdm\\auto.py:21: TqdmWarning: IProgress not found. Please update jupyter and ipywidgets. See https://ipywidgets.readthedocs.io/en/stable/user_install.html\n",
      "  from .autonotebook import tqdm as notebook_tqdm\n"
     ]
    }
   ],
   "source": [
    "import os\n",
    "import torch\n",
    "import torch.utils.data\n",
    "import torchvision\n",
    "from PIL import Image\n",
    "from pycocotools.coco import COCO\n",
    "import torchvision.transforms as transforms\n",
    "import torchvision.ops as ops\n",
    "import matplotlib.pyplot as plt\n",
    "import numpy as np\n",
    "import matplotlib.patches as patches\n",
    "import matplotlib.image as mpimg\n",
    "import json"
   ]
  },
  {
   "cell_type": "code",
   "execution_count": 2,
   "id": "d64bff65",
   "metadata": {},
   "outputs": [],
   "source": [
    "class myOwnDataset(torch.utils.data.Dataset):\n",
    "    def __init__(self, root, annotation, transforms=None):\n",
    "        self.root = root\n",
    "        self.transforms = transforms\n",
    "        self.coco = COCO(annotation)\n",
    "        self.ids = self._get_valid_image_ids()\n",
    "        \n",
    "    def _get_valid_image_ids(self):\n",
    "        # Get image IDs with valid annotations\n",
    "        valid_ids = []\n",
    "        for img_id in self.coco.imgs.keys():\n",
    "            ann_ids = self.coco.getAnnIds(imgIds=img_id)\n",
    "            if len(ann_ids) > 0:\n",
    "                valid_ids.append(img_id)\n",
    "        return valid_ids\n",
    "\n",
    "    def __getitem__(self, index):\n",
    "        # Own coco file\n",
    "        coco = self.coco\n",
    "        # Image ID\n",
    "        img_id = self.ids[index]\n",
    "        # List: get annotation id from coco\n",
    "        ann_ids = coco.getAnnIds(imgIds=img_id)\n",
    "        # Dictionary: target coco_annotation file for an image\n",
    "        coco_annotation = coco.loadAnns(ann_ids)\n",
    "        # path for input image\n",
    "        path = coco.loadImgs(img_id)[0]['file_name']\n",
    "        # open the input image\n",
    "        img = Image.open(os.path.join(self.root, path)).convert(\"RGB\")\n",
    "        \n",
    "        if len(coco_annotation) == 0:\n",
    "            # Skip images with no annotations\n",
    "            return self.__getitem__((index + 1) % len(self.ids))\n",
    "\n",
    "        # number of objects in the image\n",
    "        num_objs = len(coco_annotation)\n",
    "\n",
    "        # Bounding boxes for objects\n",
    "        # In coco format, bbox = [xmin, ymin, width, height]\n",
    "        # In pytorch, the input should be [xmin, ymin, xmax, ymax]\n",
    "        \n",
    "        boxes = []\n",
    "        for i in range(num_objs):\n",
    "            xmin = coco_annotation[i]['bbox'][0]\n",
    "            ymin = coco_annotation[i]['bbox'][1]\n",
    "            xmax = xmin + coco_annotation[i]['bbox'][2]\n",
    "            ymax = ymin + coco_annotation[i]['bbox'][3]\n",
    "            boxes.append([xmin, ymin, xmax, ymax])\n",
    "        boxes = torch.as_tensor(boxes, dtype=torch.float32)\n",
    "        \n",
    "        labels = []\n",
    "        # Some objects are almost invisible in images, so we need to remove them from labels\n",
    "        for i in range(num_objs):\n",
    "            label = coco_annotation[i]['category_id']\n",
    "            labels.append(label)\n",
    "            \n",
    "        labels = torch.tensor(labels, dtype=torch.int64)\n",
    "        \n",
    "        # Tensorise img_id\n",
    "        img_id = torch.tensor([img_id])\n",
    "        # Size of bbox (Rectangular)\n",
    "        areas = []\n",
    "        for i in range(num_objs):\n",
    "            areas.append(coco_annotation[i]['area'])\n",
    "        areas = torch.as_tensor(areas, dtype=torch.float32)\n",
    "\n",
    "        iscrowd = torch.zeros((num_objs,), dtype=torch.int64)\n",
    "\n",
    "        # Annotation is in dictionary format\n",
    "        my_annotation = {}\n",
    "        my_annotation[\"boxes\"] = boxes\n",
    "        my_annotation[\"labels\"] = labels\n",
    "        my_annotation[\"image_id\"] = img_id\n",
    "        my_annotation[\"area\"] = areas\n",
    "        my_annotation[\"iscrowd\"] = iscrowd\n",
    "\n",
    "        if self.transforms is not None:\n",
    "            img = self.transforms(img)\n",
    "\n",
    "        return img, my_annotation\n",
    "\n",
    "    def __len__(self):\n",
    "        return len(self.ids)"
   ]
  },
  {
   "cell_type": "code",
   "execution_count": 3,
   "id": "267f7a3c",
   "metadata": {},
   "outputs": [],
   "source": [
    "def get_transform():\n",
    "    custom_transforms = []\n",
    "    custom_transforms.append(torchvision.transforms.ToTensor())\n",
    "    #custom_transforms.append(transforms.Normalize([0.112, 0.112, 0.113], [0.112, 0.112, 0.112]))\n",
    "    return torchvision.transforms.Compose(custom_transforms)"
   ]
  },
  {
   "cell_type": "code",
   "execution_count": 4,
   "id": "990d2b8b",
   "metadata": {},
   "outputs": [],
   "source": [
    "def image_shower(images, labels, n=1):\n",
    "    for i, image in enumerate(images[:n]):\n",
    "        fig, ax = plt.subplots(1)\n",
    "        plt.subplot(n, n, i + 1)\n",
    "        ax.imshow(image.numpy().transpose((1, 2, 0)).squeeze())\n",
    "        print(labels[0]['image_id'])\n",
    "    for box in labels[0][\"boxes\"]:\n",
    "        # Extract coordinates\n",
    "        x_min, y_min, x_max, y_max = box\n",
    "        print(box)\n",
    "    \n",
    "        # Calculate width and height\n",
    "        width = x_max - x_min\n",
    "        height = y_max - y_min\n",
    "    \n",
    "        # Create rectangle patch\n",
    "        rect = patches.Rectangle((x_min, y_min), width, height, linewidth=1, edgecolor='r', facecolor='none')\n",
    "    \n",
    "        # Add rectangle patch to axes\n",
    "        ax.add_patch(rect)\n",
    "    ax.set_aspect('equal')\n",
    "    plt.show()\n",
    "    print(\"Real Labels: \", ' '.join('%5s' % classes[label.item()] for label in labels[0][\"labels\"]))"
   ]
  },
  {
   "cell_type": "code",
   "execution_count": 5,
   "id": "7d41d784",
   "metadata": {
    "scrolled": true
   },
   "outputs": [
    {
     "name": "stdout",
     "output_type": "stream",
     "text": [
      "loading annotations into memory...\n",
      "Done (t=0.02s)\n",
      "creating index...\n",
      "index created!\n"
     ]
    }
   ],
   "source": [
    "train_data_dir = './furniture.v3i.coco/train'\n",
    "train_coco = './furniture.v3i.coco/train/_annotations.coco.json'\n",
    "\n",
    "my_dataset = myOwnDataset(root=train_data_dir,\n",
    "                          annotation=train_coco,\n",
    "                          transforms=get_transform()\n",
    "                          )\n",
    "\n",
    "def collate_fn(batch):\n",
    "    return tuple(zip(*batch))\n",
    "\n",
    "# Batch size\n",
    "train_batch_size = 10\n",
    "\n",
    "data_loader = torch.utils.data.DataLoader(my_dataset,\n",
    "                                          batch_size=train_batch_size,\n",
    "                                          shuffle=True,\n",
    "                                          num_workers=0,\n",
    "                                          collate_fn=collate_fn)\n",
    "\n",
    "device = torch.device('cuda' if torch.cuda.is_available() else 'cpu')"
   ]
  },
  {
   "cell_type": "code",
   "execution_count": 6,
   "id": "7444bac9",
   "metadata": {},
   "outputs": [
    {
     "name": "stdout",
     "output_type": "stream",
     "text": [
      "tensor([658])\n",
      "tensor([ 62.0000, 112.0000, 577.5000, 523.0000])\n"
     ]
    },
    {
     "data": {
      "image/png": "[encoded data removed]",
      "text/plain": [
       "<Figure size 640x480 with 1 Axes>"
      ]
     },
     "metadata": {},
     "output_type": "display_data"
    },
    {
     "name": "stdout",
     "output_type": "stream",
     "text": [
      "Real Labels:  table\n"
     ]
    }
   ],
   "source": [
    "classes = {1:'bed', 2: 'chair', 3:'couch', 4:'table'}\n",
    "images, labels = next(iter(data_loader))\n",
    "image_shower(images, labels)"
   ]
  },
  {
   "cell_type": "code",
   "execution_count": 7,
   "id": "a26c76c3",
   "metadata": {},
   "outputs": [],
   "source": [
    "def calculate_iou(box1, box2):\n",
    "    \"\"\"\n",
    "    Calculate IoU between two bounding boxes.\n",
    "\n",
    "    Parameters:\n",
    "    - box1 (list or numpy array): [x_min, y_min, x_max, y_max]\n",
    "    - box2 (list or numpy array): [x_min, y_min, x_max, y_max]\n",
    "\n",
    "    Returns:\n",
    "    - IoU (float): Intersection over Union ratio.\n",
    "    \"\"\"\n",
    "    if not isinstance(box1, (list, np.ndarray)) or not isinstance(box2, (list, np.ndarray)):\n",
    "        raise ValueError(\"Input boxes must be lists or numpy arrays.\")\n",
    "\n",
    "    x_min_i = max(box1[0], box2[0])\n",
    "    y_min_i = max(box1[1], box2[1])\n",
    "    x_max_i = min(box1[2], box2[2])\n",
    "    y_max_i = min(box1[3], box2[3])\n",
    "\n",
    "    intersection_area = max(0, x_max_i - x_min_i) * max(0, y_max_i - y_min_i)\n",
    "\n",
    "    box1_area = (box1[2] - box1[0]) * (box1[3] - box1[1])\n",
    "    box2_area = (box2[2] - box2[0]) * (box2[3] - box2[1])\n",
    "\n",
    "    union_area = box1_area + box2_area - intersection_area\n",
    "\n",
    "    iou = intersection_area / union_area if union_area > 0 else 0.0\n",
    "\n",
    "    return iou"
   ]
  },
  {
   "cell_type": "code",
   "execution_count": 8,
   "id": "d55144ee",
   "metadata": {},
   "outputs": [],
   "source": [
    "from sklearn.metrics import accuracy_score, f1_score, mean_absolute_error\n",
    "from tqdm import tqdm as tqdm_notebook\n",
    "\n",
    "def evaluate(model, data_loader, device, iou_threshold=0.5, nms_threshold=0.1, confidence_threshold=0.5):\n",
    "    model.eval()\n",
    "    all_predictions = []\n",
    "    all_targets = []\n",
    "    all_iou_per_box = []\n",
    "\n",
    "    with torch.no_grad():\n",
    "        for imgs, annotations in tqdm_notebook(data_loader, desc='Validation'):\n",
    "            imgs = list(img.to(device) for img in imgs)\n",
    "            annotations = [{k: v.to(device) for k, v in t.items()} for t in annotations]\n",
    "\n",
    "            predictions = model(imgs)\n",
    "            all_predictions.extend(predictions)\n",
    "            all_targets.extend(annotations)\n",
    "\n",
    "    # Extract bounding boxes, labels, and scores from predictions and targets\n",
    "    pred_boxes = [pred['boxes'].cpu().numpy() for pred in all_predictions]\n",
    "    pred_labels = [pred['labels'].cpu().numpy() for pred in all_predictions]\n",
    "    pred_scores = [pred['scores'].cpu().numpy() for pred in all_predictions]\n",
    "\n",
    "    true_boxes = [target['boxes'].cpu().numpy() for target in all_targets]\n",
    "    true_labels = [target['labels'].cpu().numpy() for target in all_targets]\n",
    "\n",
    "    true_positives = 0\n",
    "    false_positives = 0\n",
    "    false_negatives = 0\n",
    "    all_iou_per_box = []\n",
    "\n",
    "    # Matching strategy based on IoU\n",
    "    for i in range(len(pred_boxes)):\n",
    "        # Apply NMS to filter out redundant predictions\n",
    "        keep = ops.nms(torch.tensor(pred_boxes[i]), torch.tensor(pred_scores[i]), iou_threshold=nms_threshold)\n",
    "        pred_boxes[i] = pred_boxes[i][keep]\n",
    "        pred_labels[i] = pred_labels[i][keep]\n",
    "        pred_scores[i] = pred_scores[i][keep]\n",
    "        \n",
    "        if pred_boxes[i].ndim == 2:\n",
    "            pass\n",
    "        else:\n",
    "            pred_boxes[i] = np.array([pred_boxes[i]])\n",
    "            pred_labels[i] = np.array([pred_labels[i]])\n",
    "            pred_scores[i] = np.array([pred_scores[i]])\n",
    "        \n",
    "\n",
    "        for j in range(len(pred_boxes[i])):\n",
    "            if pred_scores[i][j] < confidence_threshold:\n",
    "                continue\n",
    "            ious = [calculate_iou(pred_boxes[i][j], true_box) for true_box in true_boxes[i]]\n",
    "            max_iou = max(ious, default=0.0)\n",
    "\n",
    "            # Check if the maximum IoU is above the threshold\n",
    "            if max_iou >= iou_threshold:\n",
    "                true_label = true_labels[i][ious.index(max_iou)]\n",
    "                predicted_label = pred_labels[i][j]\n",
    "                all_iou_per_box.append(max_iou)\n",
    "\n",
    "                if true_label == predicted_label:\n",
    "                    true_positives += 1\n",
    "                else:\n",
    "                    false_positives += 1\n",
    "\n",
    "                # Remove matched ground truth to avoid double counting\n",
    "                matched_index = ious.index(max_iou)\n",
    "                true_boxes[i] = np.delete(true_boxes[i], matched_index, axis=0)\n",
    "            else:\n",
    "                false_positives += 1\n",
    "\n",
    "    # Count unmatched ground truth boxes as false negatives\n",
    "    for i in range(len(true_boxes)):\n",
    "        false_negatives += len(true_boxes[i])\n",
    "\n",
    "    # Calculate accuracy and F1 score based on your logic for true positives, false positives, false negatives, etc.\n",
    "    total_positives = true_positives + false_negatives\n",
    "    total_predictions = true_positives + false_positives\n",
    "\n",
    "    accuracy = true_positives / (true_positives + false_positives + false_negatives) if total_predictions > 0 else 0.0\n",
    "    precision = true_positives / (true_positives + false_positives) if total_predictions > 0 else 0.0\n",
    "    recall = true_positives / total_positives if total_positives > 0 else 0.0\n",
    "\n",
    "    f1 = 2 * (precision * recall) / (precision + recall) if (precision + recall) > 0 else 0.0\n",
    "\n",
    "    print(f'TP: {true_positives:.4f}, FP: {false_positives:.4f}, FN: {false_negatives:.4f}')\n",
    "    print(f'Accuracy: {accuracy:.4f}, Recall: {recall:.4f}, F1 Score: {f1:.4f}')\n",
    "    print(f'Average IoU: {np.mean(all_iou_per_box):.4f}')\n",
    "    return (accuracy, recall, f1, np.mean(all_iou_per_box))"
   ]
  },
  {
   "cell_type": "code",
   "execution_count": 9,
   "id": "bcb4807a",
   "metadata": {},
   "outputs": [],
   "source": [
    "torch.cuda.empty_cache()"
   ]
  },
  {
   "cell_type": "code",
   "execution_count": 24,
   "id": "e7b9f28a",
   "metadata": {},
   "outputs": [
    {
     "name": "stdout",
     "output_type": "stream",
     "text": [
      "loading annotations into memory...\n",
      "Done (t=0.01s)\n",
      "creating index...\n",
      "index created!\n"
     ]
    }
   ],
   "source": [
    "valid_data_dir = './furniture.v3i.coco/valid'\n",
    "valid_coco = './furniture.v3i.coco/valid/_annotations.coco.json'\n",
    "\n",
    "validation_dataset = myOwnDataset(root=valid_data_dir,\n",
    "                          annotation=valid_coco,\n",
    "                          transforms=get_transform()\n",
    "                          )\n",
    "\n",
    "validation_data_loader = torch.utils.data.DataLoader(\n",
    "    validation_dataset,\n",
    "    batch_size=train_batch_size,\n",
    "    shuffle=False,\n",
    "    num_workers=0,\n",
    "    collate_fn=collate_fn\n",
    ")"
   ]
  },
  {
   "cell_type": "code",
   "execution_count": 17,
   "id": "d41afe30",
   "metadata": {},
   "outputs": [],
   "source": [
    "import mlflow\n",
    "import mlflow.pytorch"
   ]
  },
  {
   "cell_type": "code",
   "execution_count": 18,
   "id": "07390591",
   "metadata": {},
   "outputs": [
    {
     "data": {
      "text/plain": [
       "<Experiment: artifact_location='file:///C:/Users/getto/Documents/GitHub/FurtnitureRecognition2.0/mlruns/1', creation_time=1706419627204, experiment_id='1', last_update_time=1706419627204, lifecycle_stage='active', name='furniture', tags={}>"
      ]
     },
     "execution_count": 18,
     "metadata": {},
     "output_type": "execute_result"
    }
   ],
   "source": [
    "mlflow.set_tracking_uri(\"sqlite:///mlflow.db\")\n",
    "mlflow.set_experiment(\"furniture\")"
   ]
  },
  {
   "cell_type": "code",
   "execution_count": 20,
   "id": "cb516074",
   "metadata": {
    "scrolled": true
   },
   "outputs": [
    {
     "name": "stderr",
     "output_type": "stream",
     "text": [
      "C:\\Users\\getto\\miniconda3\\Lib\\site-packages\\torchvision\\models\\_utils.py:208: UserWarning: The parameter 'pretrained' is deprecated since 0.13 and may be removed in the future, please use 'weights' instead.\n",
      "  warnings.warn(\n",
      "C:\\Users\\getto\\miniconda3\\Lib\\site-packages\\torchvision\\models\\_utils.py:223: UserWarning: Arguments other than a weight enum or `None` for 'weights' are deprecated since 0.13 and may be removed in the future. The current behavior is equivalent to passing `weights=FasterRCNN_ResNet50_FPN_Weights.COCO_V1`. You can also use `weights=FasterRCNN_ResNet50_FPN_Weights.DEFAULT` to get the most up-to-date weights.\n",
      "  warnings.warn(msg)\n"
     ]
    },
    {
     "name": "stdout",
     "output_type": "stream",
     "text": [
      "Iteration: 1/262, Loss: 2.5958499908447266\n",
      "Iteration: 2/262, Loss: 1.3304108381271362\n",
      "Iteration: 3/262, Loss: 0.6782070994377136\n",
      "Iteration: 4/262, Loss: 0.4215673804283142\n",
      "Iteration: 5/262, Loss: 0.4298504590988159\n",
      "Iteration: 6/262, Loss: 0.3497217893600464\n",
      "Iteration: 7/262, Loss: 0.33665624260902405\n",
      "Iteration: 8/262, Loss: 0.5064771771430969\n",
      "Iteration: 9/262, Loss: 0.4472302198410034\n",
      "Iteration: 10/262, Loss: 0.570365309715271\n",
      "Iteration: 11/262, Loss: 0.44186416268348694\n",
      "Iteration: 12/262, Loss: 0.3331451714038849\n",
      "Iteration: 13/262, Loss: 0.4107581079006195\n",
      "Iteration: 14/262, Loss: 0.30007752776145935\n",
      "Iteration: 15/262, Loss: 0.3450988233089447\n",
      "Iteration: 16/262, Loss: 0.4664141535758972\n",
      "Iteration: 17/262, Loss: 0.4292619526386261\n",
      "Iteration: 18/262, Loss: 0.2975383698940277\n",
      "Iteration: 19/262, Loss: 0.24168309569358826\n",
      "Iteration: 20/262, Loss: 0.2363029569387436\n",
      "Iteration: 21/262, Loss: 0.24583518505096436\n",
      "Iteration: 22/262, Loss: 0.30288106203079224\n",
      "Iteration: 23/262, Loss: 0.22703416645526886\n",
      "Iteration: 24/262, Loss: 0.20787344872951508\n",
      "Iteration: 25/262, Loss: 0.2325333207845688\n",
      "Iteration: 26/262, Loss: 0.2040039598941803\n",
      "Iteration: 27/262, Loss: 0.2686220705509186\n",
      "Iteration: 28/262, Loss: 0.33934590220451355\n",
      "Iteration: 29/262, Loss: 0.21875104308128357\n",
      "Iteration: 30/262, Loss: 0.251857727766037\n",
      "Iteration: 31/262, Loss: 0.27903151512145996\n",
      "Iteration: 32/262, Loss: 0.23767976462841034\n",
      "Iteration: 33/262, Loss: 0.21837785840034485\n",
      "Iteration: 34/262, Loss: 0.20500215888023376\n",
      "Iteration: 35/262, Loss: 0.38845378160476685\n",
      "Iteration: 36/262, Loss: 0.23783361911773682\n",
      "Iteration: 37/262, Loss: 0.26046663522720337\n",
      "Iteration: 38/262, Loss: 0.21865765750408173\n",
      "Iteration: 39/262, Loss: 0.173618346452713\n",
      "Iteration: 40/262, Loss: 0.2815907299518585\n",
      "Iteration: 41/262, Loss: 0.23393382132053375\n",
      "Iteration: 42/262, Loss: 0.2207673341035843\n",
      "Iteration: 43/262, Loss: 0.20600657165050507\n",
      "Iteration: 44/262, Loss: 0.29155540466308594\n",
      "Iteration: 45/262, Loss: 0.26598140597343445\n",
      "Iteration: 46/262, Loss: 0.23189693689346313\n",
      "Iteration: 47/262, Loss: 0.2508417069911957\n",
      "Iteration: 48/262, Loss: 0.3424072861671448\n",
      "Iteration: 49/262, Loss: 0.26790615916252136\n",
      "Iteration: 50/262, Loss: 0.22311285138130188\n",
      "Iteration: 51/262, Loss: 0.16989381611347198\n",
      "Iteration: 52/262, Loss: 0.19531883299350739\n",
      "Iteration: 53/262, Loss: 0.21849903464317322\n",
      "Iteration: 54/262, Loss: 0.23087264597415924\n",
      "Iteration: 55/262, Loss: 0.2034170925617218\n",
      "Iteration: 56/262, Loss: 0.22613470256328583\n",
      "Iteration: 57/262, Loss: 0.19452610611915588\n",
      "Iteration: 58/262, Loss: 0.1722070723772049\n",
      "Iteration: 59/262, Loss: 0.20364724099636078\n",
      "Iteration: 60/262, Loss: 0.4066728353500366\n",
      "Iteration: 61/262, Loss: 0.22406743466854095\n",
      "Iteration: 62/262, Loss: 0.2150765359401703\n",
      "Iteration: 63/262, Loss: 0.21914266049861908\n",
      "Iteration: 64/262, Loss: 0.24395805597305298\n",
      "Iteration: 65/262, Loss: 0.19011162221431732\n",
      "Iteration: 66/262, Loss: 0.18990880250930786\n",
      "Iteration: 67/262, Loss: 0.18706360459327698\n",
      "Iteration: 68/262, Loss: 0.23789285123348236\n",
      "Iteration: 69/262, Loss: 0.17358897626399994\n",
      "Iteration: 70/262, Loss: 0.23711691796779633\n",
      "Iteration: 71/262, Loss: 0.17753607034683228\n",
      "Iteration: 72/262, Loss: 0.23507262766361237\n",
      "Iteration: 73/262, Loss: 0.14906273782253265\n",
      "Iteration: 74/262, Loss: 0.20944982767105103\n",
      "Iteration: 75/262, Loss: 0.1953229457139969\n",
      "Iteration: 76/262, Loss: 0.2550128400325775\n",
      "Iteration: 77/262, Loss: 0.21255572140216827\n",
      "Iteration: 78/262, Loss: 0.21801552176475525\n",
      "Iteration: 79/262, Loss: 0.21630637347698212\n",
      "Iteration: 80/262, Loss: 0.20362411439418793\n",
      "Iteration: 81/262, Loss: 0.20923548936843872\n",
      "Iteration: 82/262, Loss: 0.19640249013900757\n",
      "Iteration: 83/262, Loss: 0.19378940761089325\n",
      "Iteration: 84/262, Loss: 0.19549742341041565\n",
      "Iteration: 85/262, Loss: 0.2521212100982666\n",
      "Iteration: 86/262, Loss: 0.2409811019897461\n",
      "Iteration: 87/262, Loss: 0.1718737632036209\n",
      "Iteration: 88/262, Loss: 0.1694447547197342\n",
      "Iteration: 89/262, Loss: 0.1585095226764679\n",
      "Iteration: 90/262, Loss: 0.22342684864997864\n",
      "Iteration: 91/262, Loss: 0.22939515113830566\n",
      "Iteration: 92/262, Loss: 0.19296322762966156\n",
      "Iteration: 93/262, Loss: 0.23588132858276367\n",
      "Iteration: 94/262, Loss: 0.14015032351016998\n",
      "Iteration: 95/262, Loss: 0.16121207177639008\n",
      "Iteration: 96/262, Loss: 0.207021102309227\n",
      "Iteration: 97/262, Loss: 0.1384892761707306\n",
      "Iteration: 98/262, Loss: 0.17261800169944763\n",
      "Iteration: 99/262, Loss: 0.25282034277915955\n",
      "Iteration: 100/262, Loss: 0.20883576571941376\n",
      "Iteration: 101/262, Loss: 0.2610030174255371\n",
      "Iteration: 102/262, Loss: 0.22079390287399292\n",
      "Iteration: 103/262, Loss: 0.17951032519340515\n",
      "Iteration: 104/262, Loss: 0.17052121460437775\n",
      "Iteration: 105/262, Loss: 0.19233018159866333\n",
      "Iteration: 106/262, Loss: 0.18467563390731812\n",
      "Iteration: 107/262, Loss: 0.15888576209545135\n",
      "Iteration: 108/262, Loss: 0.2561612129211426\n",
      "Iteration: 109/262, Loss: 0.15626972913742065\n",
      "Iteration: 110/262, Loss: 0.15562398731708527\n",
      "Iteration: 111/262, Loss: 0.24977359175682068\n",
      "Iteration: 112/262, Loss: 0.1575421392917633\n",
      "Iteration: 113/262, Loss: 0.12817835807800293\n",
      "Iteration: 114/262, Loss: 0.2482232004404068\n",
      "Iteration: 115/262, Loss: 0.22006794810295105\n",
      "Iteration: 116/262, Loss: 0.14997558295726776\n",
      "Iteration: 117/262, Loss: 0.1680397093296051\n",
      "Iteration: 118/262, Loss: 0.2276010364294052\n",
      "Iteration: 119/262, Loss: 0.12939634919166565\n",
      "Iteration: 120/262, Loss: 0.20737522840499878\n",
      "Iteration: 121/262, Loss: 0.2600741386413574\n",
      "Iteration: 122/262, Loss: 0.1812155842781067\n",
      "Iteration: 123/262, Loss: 0.19117480516433716\n",
      "Iteration: 124/262, Loss: 0.11055924743413925\n",
      "Iteration: 125/262, Loss: 0.15472637116909027\n",
      "Iteration: 126/262, Loss: 0.1352514922618866\n",
      "Iteration: 127/262, Loss: 0.12289462983608246\n",
      "Iteration: 128/262, Loss: 0.1321583241224289\n",
      "Iteration: 129/262, Loss: 0.17482604086399078\n",
      "Iteration: 130/262, Loss: 0.14746099710464478\n",
      "Iteration: 131/262, Loss: 0.17101973295211792\n",
      "Iteration: 132/262, Loss: 0.2110850065946579\n",
      "Iteration: 133/262, Loss: 0.1329471617937088\n",
      "Iteration: 134/262, Loss: 0.1628718376159668\n",
      "Iteration: 135/262, Loss: 0.19218140840530396\n",
      "Iteration: 136/262, Loss: 0.1465170830488205\n",
      "Iteration: 137/262, Loss: 0.11783943325281143\n",
      "Iteration: 138/262, Loss: 0.14687077701091766\n",
      "Iteration: 139/262, Loss: 0.23513105511665344\n",
      "Iteration: 140/262, Loss: 0.10765265673398972\n",
      "Iteration: 141/262, Loss: 0.2095501720905304\n",
      "Iteration: 142/262, Loss: 0.1765466034412384\n",
      "Iteration: 143/262, Loss: 0.1730925589799881\n",
      "Iteration: 144/262, Loss: 0.1641550064086914\n",
      "Iteration: 145/262, Loss: 0.1683267056941986\n",
      "Iteration: 146/262, Loss: 0.2462037056684494\n",
      "Iteration: 147/262, Loss: 0.14287465810775757\n",
      "Iteration: 148/262, Loss: 0.10376148670911789\n",
      "Iteration: 149/262, Loss: 0.09952924400568008\n",
      "Iteration: 150/262, Loss: 0.23309169709682465\n",
      "Iteration: 151/262, Loss: 0.13537220656871796\n",
      "Iteration: 152/262, Loss: 0.17710717022418976\n",
      "Iteration: 153/262, Loss: 0.12996457517147064\n",
      "Iteration: 154/262, Loss: 0.153568834066391\n",
      "Iteration: 155/262, Loss: 0.15398064255714417\n",
      "Iteration: 156/262, Loss: 0.13236013054847717\n",
      "Iteration: 157/262, Loss: 0.10015875101089478\n",
      "Iteration: 158/262, Loss: 0.1467597931623459\n",
      "Iteration: 159/262, Loss: 0.1330089420080185\n",
      "Iteration: 160/262, Loss: 0.151426300406456\n",
      "Iteration: 161/262, Loss: 0.2500419616699219\n",
      "Iteration: 162/262, Loss: 0.12618815898895264\n",
      "Iteration: 163/262, Loss: 0.14274674654006958\n",
      "Iteration: 164/262, Loss: 0.1051398366689682\n",
      "Iteration: 165/262, Loss: 0.10220617800951004\n",
      "Iteration: 166/262, Loss: 0.11653351783752441\n",
      "Iteration: 167/262, Loss: 0.16790960729122162\n",
      "Iteration: 168/262, Loss: 0.19725549221038818\n",
      "Iteration: 169/262, Loss: 0.140227809548378\n",
      "Iteration: 170/262, Loss: 0.15340453386306763\n",
      "Iteration: 171/262, Loss: 0.21392956376075745\n",
      "Iteration: 172/262, Loss: 0.09822516143321991\n",
      "Iteration: 173/262, Loss: 0.11467720568180084\n",
      "Iteration: 174/262, Loss: 0.18882034718990326\n",
      "Iteration: 175/262, Loss: 0.16332338750362396\n",
      "Iteration: 176/262, Loss: 0.13148994743824005\n",
      "Iteration: 177/262, Loss: 0.1681825816631317\n",
      "Iteration: 178/262, Loss: 0.10690687596797943\n",
      "Iteration: 179/262, Loss: 0.23603855073451996\n",
      "Iteration: 180/262, Loss: 0.18222001194953918\n",
      "Iteration: 181/262, Loss: 0.15352080762386322\n",
      "Iteration: 182/262, Loss: 0.16310220956802368\n",
      "Iteration: 183/262, Loss: 0.2463127076625824\n",
      "Iteration: 184/262, Loss: 0.12407945096492767\n",
      "Iteration: 185/262, Loss: 0.11538998037576675\n",
      "Iteration: 186/262, Loss: 0.13690663874149323\n",
      "Iteration: 187/262, Loss: 0.10413727909326553\n",
      "Iteration: 188/262, Loss: 0.11780846118927002\n",
      "Iteration: 189/262, Loss: 0.09326853603124619\n",
      "Iteration: 190/262, Loss: 0.19332796335220337\n",
      "Iteration: 191/262, Loss: 0.1694457083940506\n",
      "Iteration: 192/262, Loss: 0.1649133265018463\n",
      "Iteration: 193/262, Loss: 0.09362786263227463\n",
      "Iteration: 194/262, Loss: 0.20912593603134155\n",
      "Iteration: 195/262, Loss: 0.18157823383808136\n",
      "Iteration: 196/262, Loss: 0.1614415943622589\n",
      "Iteration: 197/262, Loss: 0.12305165827274323\n",
      "Iteration: 198/262, Loss: 0.10613691061735153\n",
      "Iteration: 199/262, Loss: 0.10250405222177505\n",
      "Iteration: 200/262, Loss: 0.12230898439884186\n",
      "Iteration: 201/262, Loss: 0.10996849089860916\n",
      "Iteration: 202/262, Loss: 0.16528216004371643\n",
      "Iteration: 203/262, Loss: 0.11310742050409317\n",
      "Iteration: 204/262, Loss: 0.11683622747659683\n",
      "Iteration: 205/262, Loss: 0.13950084149837494\n",
      "Iteration: 206/262, Loss: 0.4429537355899811\n",
      "Iteration: 207/262, Loss: 0.0938614159822464\n",
      "Iteration: 208/262, Loss: 0.17044135928153992\n",
      "Iteration: 209/262, Loss: 0.10523314028978348\n",
      "Iteration: 210/262, Loss: 0.12858732044696808\n",
      "Iteration: 211/262, Loss: 0.13095563650131226\n",
      "Iteration: 212/262, Loss: 0.09564216434955597\n",
      "Iteration: 213/262, Loss: 0.1668785661458969\n",
      "Iteration: 214/262, Loss: 0.10948819667100906\n",
      "Iteration: 215/262, Loss: 0.13648687303066254\n",
      "Iteration: 216/262, Loss: 0.15644066035747528\n",
      "Iteration: 217/262, Loss: 0.09705597162246704\n",
      "Iteration: 218/262, Loss: 0.08889781683683395\n",
      "Iteration: 219/262, Loss: 0.11057504266500473\n",
      "Iteration: 220/262, Loss: 0.10866990685462952\n",
      "Iteration: 221/262, Loss: 0.1123846024274826\n",
      "Iteration: 222/262, Loss: 0.09782613068819046\n",
      "Iteration: 223/262, Loss: 0.17950542271137238\n",
      "Iteration: 224/262, Loss: 0.08667172491550446\n",
      "Iteration: 225/262, Loss: 0.15543575584888458\n",
      "Iteration: 226/262, Loss: 0.18720373511314392\n",
      "Iteration: 227/262, Loss: 0.1094614788889885\n",
      "Iteration: 228/262, Loss: 0.07832933962345123\n",
      "Iteration: 229/262, Loss: 0.14142993092536926\n",
      "Iteration: 230/262, Loss: 0.09615887701511383\n",
      "Iteration: 231/262, Loss: 0.2412475049495697\n",
      "Iteration: 232/262, Loss: 0.09891616553068161\n",
      "Iteration: 233/262, Loss: 0.09845300018787384\n",
      "Iteration: 234/262, Loss: 0.10081271082162857\n",
      "Iteration: 235/262, Loss: 0.09086035192012787\n",
      "Iteration: 236/262, Loss: 0.07748264819383621\n",
      "Iteration: 237/262, Loss: 0.126230388879776\n",
      "Iteration: 238/262, Loss: 0.12854722142219543\n",
      "Iteration: 239/262, Loss: 0.1775621771812439\n",
      "Iteration: 240/262, Loss: 0.08068396896123886\n",
      "Iteration: 241/262, Loss: 0.14059382677078247\n",
      "Iteration: 242/262, Loss: 0.09231376647949219\n",
      "Iteration: 243/262, Loss: 0.07486270368099213\n",
      "Iteration: 244/262, Loss: 0.10264092683792114\n",
      "Iteration: 245/262, Loss: 0.1115686371922493\n",
      "Iteration: 246/262, Loss: 0.10868365317583084\n",
      "Iteration: 247/262, Loss: 0.12282498925924301\n",
      "Iteration: 248/262, Loss: 0.12268438190221786\n",
      "Iteration: 249/262, Loss: 0.1175406277179718\n",
      "Iteration: 250/262, Loss: 0.11798609793186188\n",
      "Iteration: 251/262, Loss: 0.23351596295833588\n",
      "Iteration: 252/262, Loss: 0.11689148098230362\n",
      "Iteration: 253/262, Loss: 0.11638709157705307\n",
      "Iteration: 254/262, Loss: 0.1424984633922577\n",
      "Iteration: 255/262, Loss: 0.06125922128558159\n",
      "Iteration: 256/262, Loss: 0.08299827575683594\n",
      "Iteration: 257/262, Loss: 0.19411379098892212\n",
      "Iteration: 258/262, Loss: 0.20022037625312805\n",
      "Iteration: 259/262, Loss: 0.13374364376068115\n",
      "Iteration: 260/262, Loss: 0.10429942607879639\n",
      "Iteration: 261/262, Loss: 0.09586462378501892\n",
      "Iteration: 262/262, Loss: 0.22339320182800293\n",
      "Iteration: 1/262, Loss: 0.1012418121099472\n",
      "Iteration: 2/262, Loss: 0.09950431436300278\n",
      "Iteration: 3/262, Loss: 0.07212326675653458\n",
      "Iteration: 4/262, Loss: 0.1884564608335495\n",
      "Iteration: 5/262, Loss: 0.12440204620361328\n",
      "Iteration: 6/262, Loss: 0.07893804460763931\n",
      "Iteration: 7/262, Loss: 0.12285663932561874\n",
      "Iteration: 8/262, Loss: 0.14047099649906158\n",
      "Iteration: 9/262, Loss: 0.12089453637599945\n",
      "Iteration: 10/262, Loss: 0.1496576964855194\n",
      "Iteration: 11/262, Loss: 0.21283045411109924\n",
      "Iteration: 12/262, Loss: 0.07013669610023499\n",
      "Iteration: 13/262, Loss: 0.07707523554563522\n",
      "Iteration: 14/262, Loss: 0.05895265191793442\n",
      "Iteration: 15/262, Loss: 0.12131817638874054\n",
      "Iteration: 16/262, Loss: 0.11119589954614639\n",
      "Iteration: 17/262, Loss: 0.09322585165500641\n",
      "Iteration: 18/262, Loss: 0.15157705545425415\n",
      "Iteration: 19/262, Loss: 0.07585455477237701\n",
      "Iteration: 20/262, Loss: 0.14475847780704498\n",
      "Iteration: 21/262, Loss: 0.07976837456226349\n",
      "Iteration: 22/262, Loss: 0.08120707422494888\n",
      "Iteration: 23/262, Loss: 0.07173554599285126\n",
      "Iteration: 24/262, Loss: 0.1238892674446106\n",
      "Iteration: 25/262, Loss: 0.09273836016654968\n",
      "Iteration: 26/262, Loss: 0.11601495742797852\n",
      "Iteration: 27/262, Loss: 0.1628434658050537\n",
      "Iteration: 28/262, Loss: 0.13069435954093933\n",
      "Iteration: 29/262, Loss: 0.0979205071926117\n",
      "Iteration: 30/262, Loss: 0.06582639366388321\n",
      "Iteration: 31/262, Loss: 0.0816677138209343\n",
      "Iteration: 32/262, Loss: 0.13799285888671875\n",
      "Iteration: 33/262, Loss: 0.08678694069385529\n",
      "Iteration: 34/262, Loss: 0.07597052305936813\n",
      "Iteration: 35/262, Loss: 0.12224945425987244\n",
      "Iteration: 36/262, Loss: 0.09148521721363068\n",
      "Iteration: 37/262, Loss: 0.20483596622943878\n",
      "Iteration: 38/262, Loss: 0.11788970977067947\n",
      "Iteration: 39/262, Loss: 0.10080797225236893\n",
      "Iteration: 40/262, Loss: 0.11800725013017654\n",
      "Iteration: 41/262, Loss: 0.07206224650144577\n",
      "Iteration: 42/262, Loss: 0.25401532649993896\n",
      "Iteration: 43/262, Loss: 0.0674288421869278\n",
      "Iteration: 44/262, Loss: 0.09972550719976425\n",
      "Iteration: 45/262, Loss: 0.07276302576065063\n",
      "Iteration: 46/262, Loss: 0.0992371141910553\n",
      "Iteration: 47/262, Loss: 0.08367045223712921\n",
      "Iteration: 48/262, Loss: 0.08997060358524323\n",
      "Iteration: 49/262, Loss: 0.07442818582057953\n",
      "Iteration: 50/262, Loss: 0.14740905165672302\n",
      "Iteration: 51/262, Loss: 0.13016413152217865\n",
      "Iteration: 52/262, Loss: 0.141112819314003\n",
      "Iteration: 53/262, Loss: 0.10894224792718887\n",
      "Iteration: 54/262, Loss: 0.07106790691614151\n",
      "Iteration: 55/262, Loss: 0.10175879299640656\n",
      "Iteration: 56/262, Loss: 0.07366984337568283\n",
      "Iteration: 57/262, Loss: 0.11581695824861526\n",
      "Iteration: 58/262, Loss: 0.10470893979072571\n",
      "Iteration: 59/262, Loss: 0.11523766070604324\n",
      "Iteration: 60/262, Loss: 0.1369677484035492\n",
      "Iteration: 61/262, Loss: 0.08826136589050293\n",
      "Iteration: 62/262, Loss: 0.10973047465085983\n",
      "Iteration: 63/262, Loss: 0.0792568251490593\n",
      "Iteration: 64/262, Loss: 0.11608380824327469\n",
      "Iteration: 65/262, Loss: 0.11615258455276489\n",
      "Iteration: 66/262, Loss: 0.11874647438526154\n",
      "Iteration: 67/262, Loss: 0.07172531634569168\n",
      "Iteration: 68/262, Loss: 0.08247323334217072\n",
      "Iteration: 69/262, Loss: 0.10499575734138489\n",
      "Iteration: 70/262, Loss: 0.108774334192276\n",
      "Iteration: 71/262, Loss: 0.10210461914539337\n",
      "Iteration: 72/262, Loss: 0.0862727016210556\n",
      "Iteration: 73/262, Loss: 0.10790582001209259\n",
      "Iteration: 74/262, Loss: 0.09945276379585266\n",
      "Iteration: 75/262, Loss: 0.07694447785615921\n",
      "Iteration: 76/262, Loss: 0.06927268952131271\n",
      "Iteration: 77/262, Loss: 0.14500842988491058\n",
      "Iteration: 78/262, Loss: 0.09883788228034973\n",
      "Iteration: 79/262, Loss: 0.07238421589136124\n",
      "Iteration: 80/262, Loss: 0.10596263408660889\n",
      "Iteration: 81/262, Loss: 0.09005054831504822\n",
      "Iteration: 82/262, Loss: 0.08346982300281525\n",
      "Iteration: 83/262, Loss: 0.06967470049858093\n",
      "Iteration: 84/262, Loss: 0.11092794686555862\n",
      "Iteration: 85/262, Loss: 0.08486949652433395\n",
      "Iteration: 86/262, Loss: 0.09942172467708588\n",
      "Iteration: 87/262, Loss: 0.10397452861070633\n",
      "Iteration: 88/262, Loss: 0.13336439430713654\n",
      "Iteration: 89/262, Loss: 0.0706179216504097\n",
      "Iteration: 90/262, Loss: 0.07976111769676208\n",
      "Iteration: 91/262, Loss: 0.05909955874085426\n",
      "Iteration: 92/262, Loss: 0.07858199626207352\n",
      "Iteration: 93/262, Loss: 0.1161302998661995\n",
      "Iteration: 94/262, Loss: 0.08273740112781525\n",
      "Iteration: 95/262, Loss: 0.1033908948302269\n",
      "Iteration: 96/262, Loss: 0.09517382830381393\n",
      "Iteration: 97/262, Loss: 0.09367525577545166\n",
      "Iteration: 98/262, Loss: 0.0796440839767456\n",
      "Iteration: 99/262, Loss: 0.08222842961549759\n",
      "Iteration: 100/262, Loss: 0.11143501102924347\n",
      "Iteration: 101/262, Loss: 0.16673977673053741\n",
      "Iteration: 102/262, Loss: 0.11637873202562332\n",
      "Iteration: 103/262, Loss: 0.08123692125082016\n",
      "Iteration: 104/262, Loss: 0.14119762182235718\n",
      "Iteration: 105/262, Loss: 0.07812141627073288\n",
      "Iteration: 106/262, Loss: 0.07971761375665665\n",
      "Iteration: 107/262, Loss: 0.07139181345701218\n",
      "Iteration: 108/262, Loss: 0.1259029507637024\n",
      "Iteration: 109/262, Loss: 0.055312514305114746\n",
      "Iteration: 110/262, Loss: 0.10250253975391388\n",
      "Iteration: 111/262, Loss: 0.09989581257104874\n",
      "Iteration: 112/262, Loss: 0.07072246074676514\n",
      "Iteration: 113/262, Loss: 0.17982010543346405\n",
      "Iteration: 114/262, Loss: 0.14416976273059845\n",
      "Iteration: 115/262, Loss: 0.0727088674902916\n",
      "Iteration: 116/262, Loss: 0.06548808515071869\n",
      "Iteration: 117/262, Loss: 0.09237729758024216\n",
      "Iteration: 118/262, Loss: 0.08625861257314682\n",
      "Iteration: 119/262, Loss: 0.15223602950572968\n",
      "Iteration: 120/262, Loss: 0.10547623038291931\n",
      "Iteration: 121/262, Loss: 0.0861533135175705\n",
      "Iteration: 122/262, Loss: 0.07102499157190323\n",
      "Iteration: 123/262, Loss: 0.13878577947616577\n",
      "Iteration: 124/262, Loss: 0.09616424143314362\n",
      "Iteration: 125/262, Loss: 0.1426449567079544\n",
      "Iteration: 126/262, Loss: 0.17312996089458466\n",
      "Iteration: 127/262, Loss: 0.0779956802725792\n",
      "Iteration: 128/262, Loss: 0.0959082767367363\n",
      "Iteration: 129/262, Loss: 0.1259133517742157\n",
      "Iteration: 130/262, Loss: 0.06625860929489136\n",
      "Iteration: 131/262, Loss: 0.1030605286359787\n",
      "Iteration: 132/262, Loss: 0.06079522892832756\n",
      "Iteration: 133/262, Loss: 0.10120528936386108\n",
      "Iteration: 134/262, Loss: 0.06953102350234985\n",
      "Iteration: 135/262, Loss: 0.0926285833120346\n",
      "Iteration: 136/262, Loss: 0.11873380094766617\n",
      "Iteration: 137/262, Loss: 0.060279443860054016\n",
      "Iteration: 138/262, Loss: 0.11053033173084259\n",
      "Iteration: 139/262, Loss: 0.10237809270620346\n",
      "Iteration: 140/262, Loss: 0.08859546482563019\n",
      "Iteration: 141/262, Loss: 0.11128174513578415\n",
      "Iteration: 142/262, Loss: 0.06566935032606125\n",
      "Iteration: 143/262, Loss: 0.11298002302646637\n",
      "Iteration: 144/262, Loss: 0.07448117434978485\n",
      "Iteration: 145/262, Loss: 0.08609485626220703\n",
      "Iteration: 146/262, Loss: 0.05819164961576462\n",
      "Iteration: 147/262, Loss: 0.0748649537563324\n",
      "Iteration: 148/262, Loss: 0.09836966544389725\n",
      "Iteration: 149/262, Loss: 0.08249597996473312\n",
      "Iteration: 150/262, Loss: 0.10548166185617447\n",
      "Iteration: 151/262, Loss: 0.06175870820879936\n",
      "Iteration: 152/262, Loss: 0.14904344081878662\n",
      "Iteration: 153/262, Loss: 0.10016018897294998\n",
      "Iteration: 154/262, Loss: 0.09535998851060867\n",
      "Iteration: 155/262, Loss: 0.12593859434127808\n",
      "Iteration: 156/262, Loss: 0.06383455544710159\n",
      "Iteration: 157/262, Loss: 0.18998782336711884\n",
      "Iteration: 158/262, Loss: 0.10080023854970932\n",
      "Iteration: 159/262, Loss: 0.13771136105060577\n",
      "Iteration: 160/262, Loss: 0.12837335467338562\n",
      "Iteration: 161/262, Loss: 0.14531812071800232\n",
      "Iteration: 162/262, Loss: 0.13345332443714142\n",
      "Iteration: 163/262, Loss: 0.10392947494983673\n",
      "Iteration: 164/262, Loss: 0.15435130894184113\n",
      "Iteration: 165/262, Loss: 0.1427215188741684\n",
      "Iteration: 166/262, Loss: 0.051809631288051605\n",
      "Iteration: 167/262, Loss: 0.0710703507065773\n",
      "Iteration: 168/262, Loss: 0.07704972475767136\n",
      "Iteration: 169/262, Loss: 0.08560702949762344\n",
      "Iteration: 170/262, Loss: 0.07993201911449432\n",
      "Iteration: 171/262, Loss: 0.06688687950372696\n",
      "Iteration: 172/262, Loss: 0.0861942321062088\n",
      "Iteration: 173/262, Loss: 0.07690645754337311\n",
      "Iteration: 174/262, Loss: 0.059301815927028656\n",
      "Iteration: 175/262, Loss: 0.0922960638999939\n",
      "Iteration: 176/262, Loss: 0.10377412289381027\n",
      "Iteration: 177/262, Loss: 0.13031333684921265\n",
      "Iteration: 178/262, Loss: 0.08354032784700394\n",
      "Iteration: 179/262, Loss: 0.07515701651573181\n",
      "Iteration: 180/262, Loss: 0.09741063416004181\n",
      "Iteration: 181/262, Loss: 0.13422158360481262\n",
      "Iteration: 182/262, Loss: 0.06442980468273163\n",
      "Iteration: 183/262, Loss: 0.08872132003307343\n",
      "Iteration: 184/262, Loss: 0.07224594056606293\n",
      "Iteration: 185/262, Loss: 0.17869941890239716\n",
      "Iteration: 186/262, Loss: 0.06458107382059097\n",
      "Iteration: 187/262, Loss: 0.09293974936008453\n",
      "Iteration: 188/262, Loss: 0.14626388251781464\n",
      "Iteration: 189/262, Loss: 0.07268033921718597\n",
      "Iteration: 190/262, Loss: 0.07311418652534485\n",
      "Iteration: 191/262, Loss: 0.11982093006372452\n",
      "Iteration: 192/262, Loss: 0.08346275240182877\n",
      "Iteration: 193/262, Loss: 0.0569801852107048\n",
      "Iteration: 194/262, Loss: 0.0575827993452549\n",
      "Iteration: 195/262, Loss: 0.06475437432527542\n",
      "Iteration: 196/262, Loss: 0.06641320884227753\n",
      "Iteration: 197/262, Loss: 0.06317847967147827\n",
      "Iteration: 198/262, Loss: 0.07008608430624008\n",
      "Iteration: 199/262, Loss: 0.10943813621997833\n",
      "Iteration: 200/262, Loss: 0.0946606695652008\n",
      "Iteration: 201/262, Loss: 0.05551134794950485\n",
      "Iteration: 202/262, Loss: 0.08446171879768372\n",
      "Iteration: 203/262, Loss: 0.0861087292432785\n",
      "Iteration: 204/262, Loss: 0.09455803781747818\n",
      "Iteration: 205/262, Loss: 0.09742803871631622\n",
      "Iteration: 206/262, Loss: 0.07159511744976044\n",
      "Iteration: 207/262, Loss: 0.06564058363437653\n",
      "Iteration: 208/262, Loss: 0.04599928855895996\n",
      "Iteration: 209/262, Loss: 0.06155172735452652\n",
      "Iteration: 210/262, Loss: 0.09749431908130646\n",
      "Iteration: 211/262, Loss: 0.09177456796169281\n",
      "Iteration: 212/262, Loss: 0.11349135637283325\n",
      "Iteration: 213/262, Loss: 0.06214848905801773\n",
      "Iteration: 214/262, Loss: 0.06446905434131622\n",
      "Iteration: 215/262, Loss: 0.0728822648525238\n",
      "Iteration: 216/262, Loss: 0.0795295238494873\n",
      "Iteration: 217/262, Loss: 0.15856215357780457\n",
      "Iteration: 218/262, Loss: 0.07283340394496918\n",
      "Iteration: 219/262, Loss: 0.05327264219522476\n",
      "Iteration: 220/262, Loss: 0.10004183650016785\n",
      "Iteration: 221/262, Loss: 0.08586042374372482\n",
      "Iteration: 222/262, Loss: 0.06978325545787811\n",
      "Iteration: 223/262, Loss: 0.07809730619192123\n",
      "Iteration: 224/262, Loss: 0.06168302148580551\n",
      "Iteration: 225/262, Loss: 0.06337049603462219\n",
      "Iteration: 226/262, Loss: 0.105937659740448\n",
      "Iteration: 227/262, Loss: 0.09566380828619003\n",
      "Iteration: 228/262, Loss: 0.06453237682580948\n",
      "Iteration: 229/262, Loss: 0.1001667007803917\n",
      "Iteration: 230/262, Loss: 0.10709434747695923\n",
      "Iteration: 231/262, Loss: 0.05774081125855446\n",
      "Iteration: 232/262, Loss: 0.05883803218603134\n",
      "Iteration: 233/262, Loss: 0.06783849000930786\n",
      "Iteration: 234/262, Loss: 0.06102113053202629\n",
      "Iteration: 235/262, Loss: 0.05561315640807152\n",
      "Iteration: 236/262, Loss: 0.05391387268900871\n",
      "Iteration: 237/262, Loss: 0.09513189643621445\n",
      "Iteration: 238/262, Loss: 0.18669050931930542\n",
      "Iteration: 239/262, Loss: 0.07520953565835953\n",
      "Iteration: 240/262, Loss: 0.05560199171304703\n",
      "Iteration: 241/262, Loss: 0.07883623987436295\n",
      "Iteration: 242/262, Loss: 0.07995837181806564\n",
      "Iteration: 243/262, Loss: 0.0722767785191536\n",
      "Iteration: 244/262, Loss: 0.0825614184141159\n",
      "Iteration: 245/262, Loss: 0.13352327048778534\n",
      "Iteration: 246/262, Loss: 0.1436774879693985\n",
      "Iteration: 247/262, Loss: 0.08714912086725235\n",
      "Iteration: 248/262, Loss: 0.130934476852417\n",
      "Iteration: 249/262, Loss: 0.07850990444421768\n",
      "Iteration: 250/262, Loss: 0.07970870286226273\n",
      "Iteration: 251/262, Loss: 0.05568977817893028\n",
      "Iteration: 252/262, Loss: 0.09819192439317703\n",
      "Iteration: 253/262, Loss: 0.05460416525602341\n",
      "Iteration: 254/262, Loss: 0.0524609312415123\n",
      "Iteration: 255/262, Loss: 0.056907977908849716\n",
      "Iteration: 256/262, Loss: 0.06954777240753174\n",
      "Iteration: 257/262, Loss: 0.09428189694881439\n",
      "Iteration: 258/262, Loss: 0.06757599115371704\n",
      "Iteration: 259/262, Loss: 0.07857411354780197\n",
      "Iteration: 260/262, Loss: 0.0676824077963829\n",
      "Iteration: 261/262, Loss: 0.04525518789887428\n",
      "Iteration: 262/262, Loss: 0.06091831624507904\n",
      "Iteration: 1/262, Loss: 0.061315618455410004\n",
      "Iteration: 2/262, Loss: 0.06434527784585953\n",
      "Iteration: 3/262, Loss: 0.06987132877111435\n",
      "Iteration: 4/262, Loss: 0.06663499772548676\n",
      "Iteration: 5/262, Loss: 0.10451287031173706\n",
      "Iteration: 6/262, Loss: 0.06312686204910278\n",
      "Iteration: 7/262, Loss: 0.07553359121084213\n",
      "Iteration: 8/262, Loss: 0.07345814257860184\n",
      "Iteration: 9/262, Loss: 0.10625051707029343\n",
      "Iteration: 10/262, Loss: 0.09175430983304977\n",
      "Iteration: 11/262, Loss: 0.1066877692937851\n",
      "Iteration: 12/262, Loss: 0.10056246072053909\n",
      "Iteration: 13/262, Loss: 0.0751536563038826\n",
      "Iteration: 14/262, Loss: 0.09698028862476349\n",
      "Iteration: 15/262, Loss: 0.07368678599596024\n",
      "Iteration: 16/262, Loss: 0.07838060706853867\n",
      "Iteration: 17/262, Loss: 0.12694071233272552\n",
      "Iteration: 18/262, Loss: 0.10365351289510727\n",
      "Iteration: 19/262, Loss: 0.052047230303287506\n",
      "Iteration: 20/262, Loss: 0.09293735772371292\n",
      "Iteration: 21/262, Loss: 0.074118971824646\n",
      "Iteration: 22/262, Loss: 0.07847701758146286\n",
      "Iteration: 23/262, Loss: 0.14470598101615906\n",
      "Iteration: 24/262, Loss: 0.06856263428926468\n",
      "Iteration: 25/262, Loss: 0.07960988581180573\n",
      "Iteration: 26/262, Loss: 0.19884447753429413\n",
      "Iteration: 27/262, Loss: 0.05085267499089241\n",
      "Iteration: 28/262, Loss: 0.1161947101354599\n",
      "Iteration: 29/262, Loss: 0.0829397514462471\n",
      "Iteration: 30/262, Loss: 0.07296483218669891\n",
      "Iteration: 31/262, Loss: 0.059986505657434464\n",
      "Iteration: 32/262, Loss: 0.059070050716400146\n",
      "Iteration: 33/262, Loss: 0.1192145124077797\n",
      "Iteration: 34/262, Loss: 0.06923391669988632\n",
      "Iteration: 35/262, Loss: 0.05624086409807205\n",
      "Iteration: 36/262, Loss: 0.06315209716558456\n",
      "Iteration: 37/262, Loss: 0.07621155679225922\n",
      "Iteration: 38/262, Loss: 0.04335464537143707\n",
      "Iteration: 39/262, Loss: 0.06898752599954605\n",
      "Iteration: 40/262, Loss: 0.0848255455493927\n",
      "Iteration: 41/262, Loss: 0.11636747419834137\n",
      "Iteration: 42/262, Loss: 0.06202777847647667\n",
      "Iteration: 43/262, Loss: 0.06851232796907425\n",
      "Iteration: 44/262, Loss: 0.06517476588487625\n",
      "Iteration: 45/262, Loss: 0.05442347750067711\n",
      "Iteration: 46/262, Loss: 0.09777303040027618\n",
      "Iteration: 47/262, Loss: 0.08151938766241074\n",
      "Iteration: 48/262, Loss: 0.08173193782567978\n",
      "Iteration: 49/262, Loss: 0.08219077438116074\n",
      "Iteration: 50/262, Loss: 0.13214650750160217\n",
      "Iteration: 51/262, Loss: 0.1277160942554474\n",
      "Iteration: 52/262, Loss: 0.07437732815742493\n",
      "Iteration: 53/262, Loss: 0.07538771629333496\n",
      "Iteration: 54/262, Loss: 0.06607677787542343\n",
      "Iteration: 55/262, Loss: 0.10056395828723907\n",
      "Iteration: 56/262, Loss: 0.09393363445997238\n",
      "Iteration: 57/262, Loss: 0.06017700582742691\n",
      "Iteration: 58/262, Loss: 0.05974508821964264\n",
      "Iteration: 59/262, Loss: 0.13124215602874756\n",
      "Iteration: 60/262, Loss: 0.06281432509422302\n",
      "Iteration: 61/262, Loss: 0.0911904126405716\n",
      "Iteration: 62/262, Loss: 0.0822315663099289\n",
      "Iteration: 63/262, Loss: 0.0682973861694336\n",
      "Iteration: 64/262, Loss: 0.11442174017429352\n",
      "Iteration: 65/262, Loss: 0.06915205717086792\n",
      "Iteration: 66/262, Loss: 0.11875876039266586\n",
      "Iteration: 67/262, Loss: 0.05404480919241905\n",
      "Iteration: 68/262, Loss: 0.11662057042121887\n",
      "Iteration: 69/262, Loss: 0.05804314836859703\n",
      "Iteration: 70/262, Loss: 0.08235400170087814\n",
      "Iteration: 71/262, Loss: 0.06732094287872314\n",
      "Iteration: 72/262, Loss: 0.13806046545505524\n",
      "Iteration: 73/262, Loss: 0.08497194200754166\n",
      "Iteration: 74/262, Loss: 0.10480072349309921\n",
      "Iteration: 75/262, Loss: 0.05954969674348831\n",
      "Iteration: 76/262, Loss: 0.04909240081906319\n",
      "Iteration: 77/262, Loss: 0.07219664752483368\n",
      "Iteration: 78/262, Loss: 0.0567968413233757\n",
      "Iteration: 79/262, Loss: 0.06259934604167938\n",
      "Iteration: 80/262, Loss: 0.09390058368444443\n",
      "Iteration: 81/262, Loss: 0.08649894595146179\n",
      "Iteration: 82/262, Loss: 0.09588127583265305\n",
      "Iteration: 83/262, Loss: 0.042312849313020706\n",
      "Iteration: 84/262, Loss: 0.06551836431026459\n",
      "Iteration: 85/262, Loss: 0.09215718507766724\n",
      "Iteration: 86/262, Loss: 0.07589971274137497\n",
      "Iteration: 87/262, Loss: 0.09615138918161392\n",
      "Iteration: 88/262, Loss: 0.04335445165634155\n",
      "Iteration: 89/262, Loss: 0.0831906646490097\n",
      "Iteration: 90/262, Loss: 0.0502118319272995\n",
      "Iteration: 91/262, Loss: 0.10004522651433945\n",
      "Iteration: 92/262, Loss: 0.04256269708275795\n",
      "Iteration: 93/262, Loss: 0.09773038327693939\n",
      "Iteration: 94/262, Loss: 0.11288976669311523\n",
      "Iteration: 95/262, Loss: 0.09430685639381409\n",
      "Iteration: 96/262, Loss: 0.090077243745327\n",
      "Iteration: 97/262, Loss: 0.07839960604906082\n",
      "Iteration: 98/262, Loss: 0.0643732100725174\n",
      "Iteration: 99/262, Loss: 0.05976934731006622\n",
      "Iteration: 100/262, Loss: 0.11991680413484573\n",
      "Iteration: 101/262, Loss: 0.05842571333050728\n",
      "Iteration: 102/262, Loss: 0.06270784884691238\n",
      "Iteration: 103/262, Loss: 0.055389367043972015\n",
      "Iteration: 104/262, Loss: 0.0800430178642273\n",
      "Iteration: 105/262, Loss: 0.06820076704025269\n",
      "Iteration: 106/262, Loss: 0.0836530327796936\n",
      "Iteration: 107/262, Loss: 0.11738737672567368\n",
      "Iteration: 108/262, Loss: 0.0473792590200901\n",
      "Iteration: 109/262, Loss: 0.11624791473150253\n",
      "Iteration: 110/262, Loss: 0.05165986716747284\n",
      "Iteration: 111/262, Loss: 0.05552171915769577\n",
      "Iteration: 112/262, Loss: 0.04985879361629486\n",
      "Iteration: 113/262, Loss: 0.06775281578302383\n",
      "Iteration: 114/262, Loss: 0.05897945910692215\n",
      "Iteration: 115/262, Loss: 0.06908278912305832\n",
      "Iteration: 116/262, Loss: 0.1378050297498703\n",
      "Iteration: 117/262, Loss: 0.06834960728883743\n",
      "Iteration: 118/262, Loss: 0.08618582785129547\n",
      "Iteration: 119/262, Loss: 0.06138231232762337\n",
      "Iteration: 120/262, Loss: 0.11361595243215561\n",
      "Iteration: 121/262, Loss: 0.13862508535385132\n",
      "Iteration: 122/262, Loss: 0.10035990923643112\n",
      "Iteration: 123/262, Loss: 0.08937592059373856\n",
      "Iteration: 124/262, Loss: 0.08507516235113144\n",
      "Iteration: 125/262, Loss: 0.0850028544664383\n",
      "Iteration: 126/262, Loss: 0.06602239608764648\n",
      "Iteration: 127/262, Loss: 0.06139093637466431\n",
      "Iteration: 128/262, Loss: 0.06934051960706711\n",
      "Iteration: 129/262, Loss: 0.06293288618326187\n",
      "Iteration: 130/262, Loss: 0.04554188996553421\n",
      "Iteration: 131/262, Loss: 0.06797376275062561\n",
      "Iteration: 132/262, Loss: 0.057508472353219986\n",
      "Iteration: 133/262, Loss: 0.05453433096408844\n",
      "Iteration: 134/262, Loss: 0.05455346778035164\n",
      "Iteration: 135/262, Loss: 0.06754428893327713\n",
      "Iteration: 136/262, Loss: 0.06520049273967743\n",
      "Iteration: 137/262, Loss: 0.08645153790712357\n",
      "Iteration: 138/262, Loss: 0.057763852179050446\n",
      "Iteration: 139/262, Loss: 0.06946410983800888\n",
      "Iteration: 140/262, Loss: 0.0520731583237648\n",
      "Iteration: 141/262, Loss: 0.08858449757099152\n",
      "Iteration: 142/262, Loss: 0.10480671375989914\n",
      "Iteration: 143/262, Loss: 0.06674358993768692\n",
      "Iteration: 144/262, Loss: 0.08033875375986099\n",
      "Iteration: 145/262, Loss: 0.14155176281929016\n",
      "Iteration: 146/262, Loss: 0.05795671045780182\n",
      "Iteration: 147/262, Loss: 0.062242306768894196\n",
      "Iteration: 148/262, Loss: 0.05200667679309845\n",
      "Iteration: 149/262, Loss: 0.12143509835004807\n",
      "Iteration: 150/262, Loss: 0.0879191905260086\n",
      "Iteration: 151/262, Loss: 0.122236467897892\n",
      "Iteration: 152/262, Loss: 0.06308715045452118\n",
      "Iteration: 153/262, Loss: 0.06468334794044495\n",
      "Iteration: 154/262, Loss: 0.06384797394275665\n",
      "Iteration: 155/262, Loss: 0.05712097883224487\n",
      "Iteration: 156/262, Loss: 0.07929228246212006\n",
      "Iteration: 157/262, Loss: 0.08576061576604843\n",
      "Iteration: 158/262, Loss: 0.05389197915792465\n",
      "Iteration: 159/262, Loss: 0.039712052792310715\n",
      "Iteration: 160/262, Loss: 0.051827386021614075\n",
      "Iteration: 161/262, Loss: 0.07124161720275879\n",
      "Iteration: 162/262, Loss: 0.10226722061634064\n",
      "Iteration: 163/262, Loss: 0.110020712018013\n",
      "Iteration: 164/262, Loss: 0.07837745547294617\n",
      "Iteration: 165/262, Loss: 0.10080602020025253\n",
      "Iteration: 166/262, Loss: 0.057160742580890656\n",
      "Iteration: 167/262, Loss: 0.08866216242313385\n",
      "Iteration: 168/262, Loss: 0.04525642469525337\n",
      "Iteration: 169/262, Loss: 0.06277158111333847\n",
      "Iteration: 170/262, Loss: 0.07164273411035538\n",
      "Iteration: 171/262, Loss: 0.05616900697350502\n",
      "Iteration: 172/262, Loss: 0.10607892274856567\n",
      "Iteration: 173/262, Loss: 0.0437241792678833\n",
      "Iteration: 174/262, Loss: 0.0992911159992218\n",
      "Iteration: 175/262, Loss: 0.0411398708820343\n",
      "Iteration: 176/262, Loss: 0.05440600588917732\n",
      "Iteration: 177/262, Loss: 0.054065052419900894\n",
      "Iteration: 178/262, Loss: 0.04270653799176216\n",
      "Iteration: 179/262, Loss: 0.059868454933166504\n",
      "Iteration: 180/262, Loss: 0.0614500492811203\n",
      "Iteration: 181/262, Loss: 0.05197802931070328\n",
      "Iteration: 182/262, Loss: 0.05104851722717285\n",
      "Iteration: 183/262, Loss: 0.05336926504969597\n",
      "Iteration: 184/262, Loss: 0.06238478422164917\n",
      "Iteration: 185/262, Loss: 0.06771104782819748\n",
      "Iteration: 186/262, Loss: 0.04853566735982895\n",
      "Iteration: 187/262, Loss: 0.06018152832984924\n",
      "Iteration: 188/262, Loss: 0.11042063683271408\n",
      "Iteration: 189/262, Loss: 0.06820712983608246\n",
      "Iteration: 190/262, Loss: 0.10743153095245361\n",
      "Iteration: 191/262, Loss: 0.045093365013599396\n",
      "Iteration: 192/262, Loss: 0.06102127581834793\n",
      "Iteration: 193/262, Loss: 0.0845905989408493\n",
      "Iteration: 194/262, Loss: 0.09870471805334091\n",
      "Iteration: 195/262, Loss: 0.06908530741930008\n",
      "Iteration: 196/262, Loss: 0.121949702501297\n",
      "Iteration: 197/262, Loss: 0.08970202505588531\n",
      "Iteration: 198/262, Loss: 0.0393902063369751\n",
      "Iteration: 199/262, Loss: 0.11825773864984512\n",
      "Iteration: 200/262, Loss: 0.11190757155418396\n",
      "Iteration: 201/262, Loss: 0.0681578516960144\n",
      "Iteration: 202/262, Loss: 0.04847971722483635\n",
      "Iteration: 203/262, Loss: 0.07344532757997513\n",
      "Iteration: 204/262, Loss: 0.10259822010993958\n",
      "Iteration: 205/262, Loss: 0.10592565685510635\n",
      "Iteration: 206/262, Loss: 0.06854312866926193\n",
      "Iteration: 207/262, Loss: 0.07605849206447601\n",
      "Iteration: 208/262, Loss: 0.03296402841806412\n",
      "Iteration: 209/262, Loss: 0.04361385107040405\n",
      "Iteration: 210/262, Loss: 0.04219093173742294\n",
      "Iteration: 211/262, Loss: 0.045495081692934036\n",
      "Iteration: 212/262, Loss: 0.045016247779130936\n",
      "Iteration: 213/262, Loss: 0.09640143066644669\n",
      "Iteration: 214/262, Loss: 0.10923324525356293\n",
      "Iteration: 215/262, Loss: 0.07762890309095383\n",
      "Iteration: 216/262, Loss: 0.12031207233667374\n",
      "Iteration: 217/262, Loss: 0.08271543681621552\n",
      "Iteration: 218/262, Loss: 0.06342758238315582\n",
      "Iteration: 219/262, Loss: 0.0630330890417099\n",
      "Iteration: 220/262, Loss: 0.08054392784833908\n",
      "Iteration: 221/262, Loss: 0.10027474164962769\n",
      "Iteration: 222/262, Loss: 0.09678341448307037\n",
      "Iteration: 223/262, Loss: 0.08477328717708588\n",
      "Iteration: 224/262, Loss: 0.08647000789642334\n",
      "Iteration: 225/262, Loss: 0.057126615196466446\n",
      "Iteration: 226/262, Loss: 0.08229610323905945\n",
      "Iteration: 227/262, Loss: 0.06592174619436264\n",
      "Iteration: 228/262, Loss: 0.06999941170215607\n",
      "Iteration: 229/262, Loss: 0.09603363275527954\n",
      "Iteration: 230/262, Loss: 0.051225777715444565\n",
      "Iteration: 231/262, Loss: 0.09042944014072418\n",
      "Iteration: 232/262, Loss: 0.044744376093149185\n",
      "Iteration: 233/262, Loss: 0.09073113650083542\n",
      "Iteration: 234/262, Loss: 0.051307469606399536\n",
      "Iteration: 235/262, Loss: 0.050640176981687546\n",
      "Iteration: 236/262, Loss: 0.10014649480581284\n",
      "Iteration: 237/262, Loss: 0.07729968428611755\n",
      "Iteration: 238/262, Loss: 0.06752648204565048\n",
      "Iteration: 239/262, Loss: 0.10429883003234863\n",
      "Iteration: 240/262, Loss: 0.07201609760522842\n",
      "Iteration: 241/262, Loss: 0.05834720656275749\n",
      "Iteration: 242/262, Loss: 0.0905042290687561\n",
      "Iteration: 243/262, Loss: 0.13261190056800842\n",
      "Iteration: 244/262, Loss: 0.09645354747772217\n",
      "Iteration: 245/262, Loss: 0.08417957276105881\n",
      "Iteration: 246/262, Loss: 0.0731198787689209\n",
      "Iteration: 247/262, Loss: 0.059386126697063446\n",
      "Iteration: 248/262, Loss: 0.08719271421432495\n",
      "Iteration: 249/262, Loss: 0.05966504290699959\n",
      "Iteration: 250/262, Loss: 0.04056818038225174\n",
      "Iteration: 251/262, Loss: 0.10578043758869171\n",
      "Iteration: 252/262, Loss: 0.05849381163716316\n",
      "Iteration: 253/262, Loss: 0.05197589844465256\n",
      "Iteration: 254/262, Loss: 0.051224641501903534\n",
      "Iteration: 255/262, Loss: 0.09156806021928787\n",
      "Iteration: 256/262, Loss: 0.08550228178501129\n",
      "Iteration: 257/262, Loss: 0.0600108876824379\n",
      "Iteration: 258/262, Loss: 0.07975789159536362\n",
      "Iteration: 259/262, Loss: 0.15642774105072021\n",
      "Iteration: 260/262, Loss: 0.052619822323322296\n",
      "Iteration: 261/262, Loss: 0.05966566875576973\n",
      "Iteration: 262/262, Loss: 0.050149593502283096\n"
     ]
    },
    {
     "name": "stderr",
     "output_type": "stream",
     "text": [
      "Validation: 100%|██████████████████████████████████████████████████████████████████████| 40/40 [01:59<00:00,  2.99s/it]\n"
     ]
    },
    {
     "name": "stdout",
     "output_type": "stream",
     "text": [
      "TP: 386.0000, FP: 33.0000, FN: 64.0000\n",
      "Accuracy: 0.7992, Recall: 0.8578, F1 Score: 0.8884\n",
      "Average IoU: 0.8653\n"
     ]
    },
    {
     "name": "stderr",
     "output_type": "stream",
     "text": [
      "2024/01/28 09:43:13 WARNING mlflow.utils.requirements_utils: Found torch version (2.1.2+cu121) contains a local version label (+cu121). MLflow logged a pip requirement for this package as 'torch==2.1.2' without the local version label to make it installable from PyPI. To specify pip requirements containing local version labels, please use `conda_env` or `pip_requirements`.\n",
      "2024/01/28 09:43:23 WARNING mlflow.utils.requirements_utils: Found torchvision version (0.16.2+cu121) contains a local version label (+cu121). MLflow logged a pip requirement for this package as 'torchvision==0.16.2' without the local version label to make it installable from PyPI. To specify pip requirements containing local version labels, please use `conda_env` or `pip_requirements`.\n"
     ]
    }
   ],
   "source": [
    "from torchvision.models.detection.faster_rcnn import FastRCNNPredictor\n",
    "\n",
    "def get_model_instance_segmentation(num_classes):\n",
    "    # load an instance segmentation model pre-trained on COCO\n",
    "    model = torchvision.models.detection.fasterrcnn_resnet50_fpn(pretrained=True)\n",
    "    # get number of input features for the classifier\n",
    "    in_features = model.roi_heads.box_predictor.cls_score.in_features\n",
    "    # replace the pre-trained head with a new one\n",
    "    model.roi_heads.box_predictor = FastRCNNPredictor(in_features, num_classes)\n",
    "\n",
    "    return model\n",
    "    \n",
    "\n",
    "# there are 4 types of furniture + background\n",
    "num_classes = 5\n",
    "model = get_model_instance_segmentation(num_classes)\n",
    "\n",
    "# move model to the right device\n",
    "model.to(device)\n",
    "\n",
    "with mlflow.start_run(run_name='6th_model'):\n",
    "    model_params = {\n",
    "        \"momentum\": 0.9,\n",
    "        \"lr\": 0.002,\n",
    "        \"weight_decay\": 0.0005,\n",
    "        \"train_batch_size\": 10,\n",
    "        \"num_epochs\": 3\n",
    "    }\n",
    "\n",
    "    # own DataLoader\n",
    "    data_loader = torch.utils.data.DataLoader(my_dataset,\n",
    "                                          batch_size=model_params[\"train_batch_size\"],\n",
    "                                          shuffle=True,\n",
    "                                          num_workers=0,\n",
    "                                          collate_fn=collate_fn)\n",
    "\n",
    "    # parameters\n",
    "    params = [p for p in model.parameters() if p.requires_grad]\n",
    "    optimizer = torch.optim.SGD(params, lr=model_params[\"lr\"], momentum=model_params[\"momentum\"],\n",
    "                                weight_decay=model_params[\"weight_decay\"])\n",
    "    \n",
    "    len_dataloader = len(data_loader)\n",
    "\n",
    "    num_epochs = model_params[\"num_epochs\"]\n",
    "    \n",
    "    for epoch in range(num_epochs):\n",
    "        model.train()\n",
    "        i = 0    \n",
    "        for imgs, annotations in data_loader:\n",
    "            \n",
    "            i += 1\n",
    "            imgs = list(img.to(device) for img in imgs)\n",
    "            annotations = [{k: v.to(device) for k, v in t.items()} for t in annotations]\n",
    "            \n",
    "        \n",
    "            loss_dict = model(imgs, annotations)\n",
    "            losses = sum(loss for loss in loss_dict.values())\n",
    "    \n",
    "            optimizer.zero_grad()\n",
    "            losses.backward()\n",
    "            optimizer.step()\n",
    "    \n",
    "            print(f'Iteration: {i}/{len_dataloader}, Loss: {losses}')\n",
    "    \n",
    "    accuracy, recall, f1, average_iou = evaluate(model, validation_data_loader, device, iou_threshold=0.5, nms_threshold=0.1, confidence_threshold=0.6)\n",
    "\n",
    "    metrics = {\n",
    "        \"accuracy\": accuracy,\n",
    "        \"recall\": recall,\n",
    "        \"f1\": f1,\n",
    "        \"average_iou\": average_iou\n",
    "    }\n",
    "    # Log parameters\n",
    "    mlflow.log_params(model_params)\n",
    "\n",
    "    # Log model\n",
    "    mlflow.pytorch.log_model(model, 'model6')\n",
    "\n",
    "    # Log metrics\n",
    "    mlflow.log_metrics(metrics)"
   ]
  },
  {
   "cell_type": "code",
   "execution_count": 22,
   "id": "ba146965-2ad8-4277-b25d-c760d5665afe",
   "metadata": {},
   "outputs": [],
   "source": [
    "logged_model = 'runs:/bd3cb1b54c2b43018a8df243d05cd566/model6'\n",
    "\n",
    "model = mlflow.pytorch.load_model(logged_model)\n",
    "\n",
    "# Move the model to GPU if available\n",
    "device = torch.device('cuda' if torch.cuda.is_available() else 'cpu')\n",
    "model = model.to(device)"
   ]
  },
  {
   "cell_type": "code",
   "execution_count": 25,
   "id": "a9be8fa0",
   "metadata": {},
   "outputs": [
    {
     "name": "stderr",
     "output_type": "stream",
     "text": [
      "Validation: 100%|██████████████████████████████████████████████████████████████████████| 40/40 [00:23<00:00,  1.70it/s]"
     ]
    },
    {
     "name": "stdout",
     "output_type": "stream",
     "text": [
      "TP: 386.0000, FP: 28.0000, FN: 65.0000\n",
      "Accuracy: 0.8058, Recall: 0.8559, F1 Score: 0.8925\n",
      "Average IoU: 0.8653\n"
     ]
    },
    {
     "name": "stderr",
     "output_type": "stream",
     "text": [
      "\n"
     ]
    }
   ],
   "source": [
    "accuracy, recall, f1, average_iou = evaluate(model, validation_data_loader, device, iou_threshold=0.5, nms_threshold=0.07, confidence_threshold=0.6)"
   ]
  },
  {
   "cell_type": "code",
   "execution_count": 36,
   "id": "85007b98-a3bf-4e07-adc4-b7ad741deffa",
   "metadata": {},
   "outputs": [
    {
     "name": "stderr",
     "output_type": "stream",
     "text": [
      "Validation: 100%|██████████████████████████████████████████████████████████████████████| 40/40 [00:22<00:00,  1.77it/s]\n"
     ]
    },
    {
     "name": "stdout",
     "output_type": "stream",
     "text": [
      "TP: 395.0000, FP: 24.0000, FN: 52.0000\n",
      "Accuracy: 0.8386, Recall: 0.8837, F1 Score: 0.9122\n",
      "Average IoU: 0.8535\n"
     ]
    },
    {
     "name": "stderr",
     "output_type": "stream",
     "text": [
      "Validation: 100%|██████████████████████████████████████████████████████████████████████| 40/40 [00:22<00:00,  1.79it/s]\n"
     ]
    },
    {
     "name": "stdout",
     "output_type": "stream",
     "text": [
      "TP: 397.0000, FP: 35.0000, FN: 49.0000\n",
      "Accuracy: 0.8254, Recall: 0.8901, F1 Score: 0.9043\n",
      "Average IoU: 0.8529\n"
     ]
    },
    {
     "name": "stderr",
     "output_type": "stream",
     "text": [
      "Validation: 100%|██████████████████████████████████████████████████████████████████████| 40/40 [00:22<00:00,  1.77it/s]\n"
     ]
    },
    {
     "name": "stdout",
     "output_type": "stream",
     "text": [
      "TP: 401.0000, FP: 44.0000, FN: 44.0000\n",
      "Accuracy: 0.8200, Recall: 0.9011, F1 Score: 0.9011\n",
      "Average IoU: 0.8521\n"
     ]
    },
    {
     "name": "stderr",
     "output_type": "stream",
     "text": [
      "Validation: 100%|██████████████████████████████████████████████████████████████████████| 40/40 [00:22<00:00,  1.79it/s]\n"
     ]
    },
    {
     "name": "stdout",
     "output_type": "stream",
     "text": [
      "TP: 404.0000, FP: 49.0000, FN: 39.0000\n",
      "Accuracy: 0.8211, Recall: 0.9120, F1 Score: 0.9018\n",
      "Average IoU: 0.8513\n"
     ]
    },
    {
     "name": "stderr",
     "output_type": "stream",
     "text": [
      "Validation: 100%|██████████████████████████████████████████████████████████████████████| 40/40 [00:22<00:00,  1.78it/s]\n"
     ]
    },
    {
     "name": "stdout",
     "output_type": "stream",
     "text": [
      "TP: 405.0000, FP: 53.0000, FN: 37.0000\n",
      "Accuracy: 0.8182, Recall: 0.9163, F1 Score: 0.9000\n",
      "Average IoU: 0.8510\n"
     ]
    },
    {
     "name": "stderr",
     "output_type": "stream",
     "text": [
      "Validation: 100%|██████████████████████████████████████████████████████████████████████| 40/40 [00:22<00:00,  1.77it/s]\n"
     ]
    },
    {
     "name": "stdout",
     "output_type": "stream",
     "text": [
      "TP: 394.0000, FP: 23.0000, FN: 53.0000\n",
      "Accuracy: 0.8383, Recall: 0.8814, F1 Score: 0.9120\n",
      "Average IoU: 0.8540\n"
     ]
    },
    {
     "name": "stderr",
     "output_type": "stream",
     "text": [
      "Validation: 100%|██████████████████████████████████████████████████████████████████████| 40/40 [00:22<00:00,  1.78it/s]\n"
     ]
    },
    {
     "name": "stdout",
     "output_type": "stream",
     "text": [
      "TP: 395.0000, FP: 34.0000, FN: 51.0000\n",
      "Accuracy: 0.8229, Recall: 0.8857, F1 Score: 0.9029\n",
      "Average IoU: 0.8537\n"
     ]
    },
    {
     "name": "stderr",
     "output_type": "stream",
     "text": [
      "Validation: 100%|██████████████████████████████████████████████████████████████████████| 40/40 [00:22<00:00,  1.77it/s]\n"
     ]
    },
    {
     "name": "stdout",
     "output_type": "stream",
     "text": [
      "TP: 399.0000, FP: 40.0000, FN: 46.0000\n",
      "Accuracy: 0.8227, Recall: 0.8966, F1 Score: 0.9027\n",
      "Average IoU: 0.8529\n"
     ]
    },
    {
     "name": "stderr",
     "output_type": "stream",
     "text": [
      "Validation: 100%|██████████████████████████████████████████████████████████████████████| 40/40 [00:22<00:00,  1.77it/s]\n"
     ]
    },
    {
     "name": "stdout",
     "output_type": "stream",
     "text": [
      "TP: 402.0000, FP: 42.0000, FN: 42.0000\n",
      "Accuracy: 0.8272, Recall: 0.9054, F1 Score: 0.9054\n",
      "Average IoU: 0.8526\n"
     ]
    },
    {
     "name": "stderr",
     "output_type": "stream",
     "text": [
      "Validation: 100%|██████████████████████████████████████████████████████████████████████| 40/40 [00:22<00:00,  1.78it/s]\n"
     ]
    },
    {
     "name": "stdout",
     "output_type": "stream",
     "text": [
      "TP: 403.0000, FP: 44.0000, FN: 40.0000\n",
      "Accuracy: 0.8275, Recall: 0.9097, F1 Score: 0.9056\n",
      "Average IoU: 0.8523\n"
     ]
    },
    {
     "name": "stderr",
     "output_type": "stream",
     "text": [
      "Validation: 100%|██████████████████████████████████████████████████████████████████████| 40/40 [00:22<00:00,  1.78it/s]\n"
     ]
    },
    {
     "name": "stdout",
     "output_type": "stream",
     "text": [
      "TP: 392.0000, FP: 20.0000, FN: 58.0000\n",
      "Accuracy: 0.8340, Recall: 0.8711, F1 Score: 0.9095\n",
      "Average IoU: 0.8574\n"
     ]
    },
    {
     "name": "stderr",
     "output_type": "stream",
     "text": [
      "Validation: 100%|██████████████████████████████████████████████████████████████████████| 40/40 [00:22<00:00,  1.77it/s]\n"
     ]
    },
    {
     "name": "stdout",
     "output_type": "stream",
     "text": [
      "TP: 392.0000, FP: 27.0000, FN: 57.0000\n",
      "Accuracy: 0.8235, Recall: 0.8731, F1 Score: 0.9032\n",
      "Average IoU: 0.8573\n"
     ]
    },
    {
     "name": "stderr",
     "output_type": "stream",
     "text": [
      "Validation: 100%|██████████████████████████████████████████████████████████████████████| 40/40 [00:22<00:00,  1.78it/s]\n"
     ]
    },
    {
     "name": "stdout",
     "output_type": "stream",
     "text": [
      "TP: 396.0000, FP: 33.0000, FN: 52.0000\n",
      "Accuracy: 0.8233, Recall: 0.8839, F1 Score: 0.9031\n",
      "Average IoU: 0.8565\n"
     ]
    },
    {
     "name": "stderr",
     "output_type": "stream",
     "text": [
      "Validation: 100%|██████████████████████████████████████████████████████████████████████| 40/40 [00:22<00:00,  1.77it/s]\n"
     ]
    },
    {
     "name": "stdout",
     "output_type": "stream",
     "text": [
      "TP: 399.0000, FP: 34.0000, FN: 48.0000\n",
      "Accuracy: 0.8295, Recall: 0.8926, F1 Score: 0.9068\n",
      "Average IoU: 0.8561\n"
     ]
    },
    {
     "name": "stderr",
     "output_type": "stream",
     "text": [
      "Validation: 100%|██████████████████████████████████████████████████████████████████████| 40/40 [00:22<00:00,  1.77it/s]\n"
     ]
    },
    {
     "name": "stdout",
     "output_type": "stream",
     "text": [
      "TP: 400.0000, FP: 36.0000, FN: 46.0000\n",
      "Accuracy: 0.8299, Recall: 0.8969, F1 Score: 0.9070\n",
      "Average IoU: 0.8558\n"
     ]
    },
    {
     "name": "stderr",
     "output_type": "stream",
     "text": [
      "Validation: 100%|██████████████████████████████████████████████████████████████████████| 40/40 [00:22<00:00,  1.78it/s]\n"
     ]
    },
    {
     "name": "stdout",
     "output_type": "stream",
     "text": [
      "TP: 388.0000, FP: 17.0000, FN: 65.0000\n",
      "Accuracy: 0.8255, Recall: 0.8565, F1 Score: 0.9044\n",
      "Average IoU: 0.8591\n"
     ]
    },
    {
     "name": "stderr",
     "output_type": "stream",
     "text": [
      "Validation: 100%|██████████████████████████████████████████████████████████████████████| 40/40 [00:22<00:00,  1.77it/s]\n"
     ]
    },
    {
     "name": "stdout",
     "output_type": "stream",
     "text": [
      "TP: 388.0000, FP: 22.0000, FN: 64.0000\n",
      "Accuracy: 0.8186, Recall: 0.8584, F1 Score: 0.9002\n",
      "Average IoU: 0.8590\n"
     ]
    },
    {
     "name": "stderr",
     "output_type": "stream",
     "text": [
      "Validation: 100%|██████████████████████████████████████████████████████████████████████| 40/40 [00:22<00:00,  1.78it/s]\n"
     ]
    },
    {
     "name": "stdout",
     "output_type": "stream",
     "text": [
      "TP: 392.0000, FP: 24.0000, FN: 60.0000\n",
      "Accuracy: 0.8235, Recall: 0.8673, F1 Score: 0.9032\n",
      "Average IoU: 0.8587\n"
     ]
    },
    {
     "name": "stderr",
     "output_type": "stream",
     "text": [
      "Validation: 100%|██████████████████████████████████████████████████████████████████████| 40/40 [00:22<00:00,  1.78it/s]\n"
     ]
    },
    {
     "name": "stdout",
     "output_type": "stream",
     "text": [
      "TP: 394.0000, FP: 25.0000, FN: 57.0000\n",
      "Accuracy: 0.8277, Recall: 0.8736, F1 Score: 0.9057\n",
      "Average IoU: 0.8585\n"
     ]
    },
    {
     "name": "stderr",
     "output_type": "stream",
     "text": [
      "Validation: 100%|██████████████████████████████████████████████████████████████████████| 40/40 [00:22<00:00,  1.77it/s]\n"
     ]
    },
    {
     "name": "stdout",
     "output_type": "stream",
     "text": [
      "TP: 395.0000, FP: 25.0000, FN: 56.0000\n",
      "Accuracy: 0.8298, Recall: 0.8758, F1 Score: 0.9070\n",
      "Average IoU: 0.8581\n"
     ]
    },
    {
     "name": "stderr",
     "output_type": "stream",
     "text": [
      "Validation: 100%|██████████████████████████████████████████████████████████████████████| 40/40 [00:22<00:00,  1.78it/s]\n"
     ]
    },
    {
     "name": "stdout",
     "output_type": "stream",
     "text": [
      "TP: 377.0000, FP: 13.0000, FN: 78.0000\n",
      "Accuracy: 0.8056, Recall: 0.8286, F1 Score: 0.8923\n",
      "Average IoU: 0.8599\n"
     ]
    },
    {
     "name": "stderr",
     "output_type": "stream",
     "text": [
      "Validation: 100%|██████████████████████████████████████████████████████████████████████| 40/40 [00:22<00:00,  1.77it/s]\n"
     ]
    },
    {
     "name": "stdout",
     "output_type": "stream",
     "text": [
      "TP: 377.0000, FP: 15.0000, FN: 78.0000\n",
      "Accuracy: 0.8021, Recall: 0.8286, F1 Score: 0.8902\n",
      "Average IoU: 0.8599\n"
     ]
    },
    {
     "name": "stderr",
     "output_type": "stream",
     "text": [
      "Validation: 100%|██████████████████████████████████████████████████████████████████████| 40/40 [00:22<00:00,  1.78it/s]\n"
     ]
    },
    {
     "name": "stdout",
     "output_type": "stream",
     "text": [
      "TP: 381.0000, FP: 16.0000, FN: 74.0000\n",
      "Accuracy: 0.8089, Recall: 0.8374, F1 Score: 0.8944\n",
      "Average IoU: 0.8595\n"
     ]
    },
    {
     "name": "stderr",
     "output_type": "stream",
     "text": [
      "Validation: 100%|██████████████████████████████████████████████████████████████████████| 40/40 [00:22<00:00,  1.76it/s]\n"
     ]
    },
    {
     "name": "stdout",
     "output_type": "stream",
     "text": [
      "TP: 382.0000, FP: 16.0000, FN: 73.0000\n",
      "Accuracy: 0.8110, Recall: 0.8396, F1 Score: 0.8957\n",
      "Average IoU: 0.8597\n"
     ]
    },
    {
     "name": "stderr",
     "output_type": "stream",
     "text": [
      "Validation: 100%|██████████████████████████████████████████████████████████████████████| 40/40 [00:22<00:00,  1.78it/s]\n"
     ]
    },
    {
     "name": "stdout",
     "output_type": "stream",
     "text": [
      "TP: 382.0000, FP: 16.0000, FN: 73.0000\n",
      "Accuracy: 0.8110, Recall: 0.8396, F1 Score: 0.8957\n",
      "Average IoU: 0.8597\n"
     ]
    },
    {
     "name": "stderr",
     "output_type": "stream",
     "text": [
      "Validation: 100%|██████████████████████████████████████████████████████████████████████| 40/40 [00:22<00:00,  1.78it/s]\n"
     ]
    },
    {
     "name": "stdout",
     "output_type": "stream",
     "text": [
      "TP: 353.0000, FP: 3.0000, FN: 111.0000\n",
      "Accuracy: 0.7559, Recall: 0.7608, F1 Score: 0.8610\n",
      "Average IoU: 0.8643\n"
     ]
    },
    {
     "name": "stderr",
     "output_type": "stream",
     "text": [
      "Validation: 100%|██████████████████████████████████████████████████████████████████████| 40/40 [00:22<00:00,  1.78it/s]\n"
     ]
    },
    {
     "name": "stdout",
     "output_type": "stream",
     "text": [
      "TP: 353.0000, FP: 4.0000, FN: 111.0000\n",
      "Accuracy: 0.7543, Recall: 0.7608, F1 Score: 0.8599\n",
      "Average IoU: 0.8643\n"
     ]
    },
    {
     "name": "stderr",
     "output_type": "stream",
     "text": [
      "Validation: 100%|██████████████████████████████████████████████████████████████████████| 40/40 [00:22<00:00,  1.75it/s]\n"
     ]
    },
    {
     "name": "stdout",
     "output_type": "stream",
     "text": [
      "TP: 357.0000, FP: 5.0000, FN: 107.0000\n",
      "Accuracy: 0.7612, Recall: 0.7694, F1 Score: 0.8644\n",
      "Average IoU: 0.8639\n"
     ]
    },
    {
     "name": "stderr",
     "output_type": "stream",
     "text": [
      "Validation: 100%|██████████████████████████████████████████████████████████████████████| 40/40 [00:22<00:00,  1.77it/s]\n"
     ]
    },
    {
     "name": "stdout",
     "output_type": "stream",
     "text": [
      "TP: 358.0000, FP: 5.0000, FN: 106.0000\n",
      "Accuracy: 0.7633, Recall: 0.7716, F1 Score: 0.8658\n",
      "Average IoU: 0.8641\n"
     ]
    },
    {
     "name": "stderr",
     "output_type": "stream",
     "text": [
      "Validation: 100%|██████████████████████████████████████████████████████████████████████| 40/40 [00:22<00:00,  1.78it/s]\n"
     ]
    },
    {
     "name": "stdout",
     "output_type": "stream",
     "text": [
      "TP: 358.0000, FP: 5.0000, FN: 106.0000\n",
      "Accuracy: 0.7633, Recall: 0.7716, F1 Score: 0.8658\n",
      "Average IoU: 0.8641\n"
     ]
    },
    {
     "name": "stderr",
     "output_type": "stream",
     "text": [
      "Validation: 100%|██████████████████████████████████████████████████████████████████████| 40/40 [00:22<00:00,  1.75it/s]\n"
     ]
    },
    {
     "name": "stdout",
     "output_type": "stream",
     "text": [
      "TP: 395.0000, FP: 24.0000, FN: 52.0000\n",
      "Accuracy: 0.8386, Recall: 0.8837, F1 Score: 0.9122\n",
      "Average IoU: 0.8535\n"
     ]
    },
    {
     "name": "stderr",
     "output_type": "stream",
     "text": [
      "Validation: 100%|██████████████████████████████████████████████████████████████████████| 40/40 [00:22<00:00,  1.80it/s]\n"
     ]
    },
    {
     "name": "stdout",
     "output_type": "stream",
     "text": [
      "TP: 397.0000, FP: 35.0000, FN: 49.0000\n",
      "Accuracy: 0.8254, Recall: 0.8901, F1 Score: 0.9043\n",
      "Average IoU: 0.8529\n"
     ]
    },
    {
     "name": "stderr",
     "output_type": "stream",
     "text": [
      "Validation: 100%|██████████████████████████████████████████████████████████████████████| 40/40 [00:21<00:00,  1.82it/s]\n"
     ]
    },
    {
     "name": "stdout",
     "output_type": "stream",
     "text": [
      "TP: 401.0000, FP: 44.0000, FN: 44.0000\n",
      "Accuracy: 0.8200, Recall: 0.9011, F1 Score: 0.9011\n",
      "Average IoU: 0.8521\n"
     ]
    },
    {
     "name": "stderr",
     "output_type": "stream",
     "text": [
      "Validation: 100%|██████████████████████████████████████████████████████████████████████| 40/40 [00:21<00:00,  1.82it/s]\n"
     ]
    },
    {
     "name": "stdout",
     "output_type": "stream",
     "text": [
      "TP: 404.0000, FP: 49.0000, FN: 39.0000\n",
      "Accuracy: 0.8211, Recall: 0.9120, F1 Score: 0.9018\n",
      "Average IoU: 0.8513\n"
     ]
    },
    {
     "name": "stderr",
     "output_type": "stream",
     "text": [
      "Validation: 100%|██████████████████████████████████████████████████████████████████████| 40/40 [00:21<00:00,  1.82it/s]\n"
     ]
    },
    {
     "name": "stdout",
     "output_type": "stream",
     "text": [
      "TP: 405.0000, FP: 53.0000, FN: 37.0000\n",
      "Accuracy: 0.8182, Recall: 0.9163, F1 Score: 0.9000\n",
      "Average IoU: 0.8510\n"
     ]
    },
    {
     "name": "stderr",
     "output_type": "stream",
     "text": [
      "Validation: 100%|██████████████████████████████████████████████████████████████████████| 40/40 [00:21<00:00,  1.82it/s]\n"
     ]
    },
    {
     "name": "stdout",
     "output_type": "stream",
     "text": [
      "TP: 394.0000, FP: 23.0000, FN: 53.0000\n",
      "Accuracy: 0.8383, Recall: 0.8814, F1 Score: 0.9120\n",
      "Average IoU: 0.8540\n"
     ]
    },
    {
     "name": "stderr",
     "output_type": "stream",
     "text": [
      "Validation: 100%|██████████████████████████████████████████████████████████████████████| 40/40 [00:22<00:00,  1.81it/s]\n"
     ]
    },
    {
     "name": "stdout",
     "output_type": "stream",
     "text": [
      "TP: 395.0000, FP: 34.0000, FN: 51.0000\n",
      "Accuracy: 0.8229, Recall: 0.8857, F1 Score: 0.9029\n",
      "Average IoU: 0.8537\n"
     ]
    },
    {
     "name": "stderr",
     "output_type": "stream",
     "text": [
      "Validation: 100%|██████████████████████████████████████████████████████████████████████| 40/40 [00:24<00:00,  1.64it/s]\n"
     ]
    },
    {
     "name": "stdout",
     "output_type": "stream",
     "text": [
      "TP: 399.0000, FP: 40.0000, FN: 46.0000\n",
      "Accuracy: 0.8227, Recall: 0.8966, F1 Score: 0.9027\n",
      "Average IoU: 0.8529\n"
     ]
    },
    {
     "name": "stderr",
     "output_type": "stream",
     "text": [
      "Validation: 100%|██████████████████████████████████████████████████████████████████████| 40/40 [00:24<00:00,  1.64it/s]\n"
     ]
    },
    {
     "name": "stdout",
     "output_type": "stream",
     "text": [
      "TP: 402.0000, FP: 42.0000, FN: 42.0000\n",
      "Accuracy: 0.8272, Recall: 0.9054, F1 Score: 0.9054\n",
      "Average IoU: 0.8526\n"
     ]
    },
    {
     "name": "stderr",
     "output_type": "stream",
     "text": [
      "Validation: 100%|██████████████████████████████████████████████████████████████████████| 40/40 [00:24<00:00,  1.66it/s]\n"
     ]
    },
    {
     "name": "stdout",
     "output_type": "stream",
     "text": [
      "TP: 403.0000, FP: 44.0000, FN: 40.0000\n",
      "Accuracy: 0.8275, Recall: 0.9097, F1 Score: 0.9056\n",
      "Average IoU: 0.8523\n"
     ]
    },
    {
     "name": "stderr",
     "output_type": "stream",
     "text": [
      "Validation: 100%|██████████████████████████████████████████████████████████████████████| 40/40 [00:24<00:00,  1.66it/s]\n"
     ]
    },
    {
     "name": "stdout",
     "output_type": "stream",
     "text": [
      "TP: 392.0000, FP: 20.0000, FN: 58.0000\n",
      "Accuracy: 0.8340, Recall: 0.8711, F1 Score: 0.9095\n",
      "Average IoU: 0.8574\n"
     ]
    },
    {
     "name": "stderr",
     "output_type": "stream",
     "text": [
      "Validation: 100%|██████████████████████████████████████████████████████████████████████| 40/40 [00:23<00:00,  1.67it/s]\n"
     ]
    },
    {
     "name": "stdout",
     "output_type": "stream",
     "text": [
      "TP: 392.0000, FP: 27.0000, FN: 57.0000\n",
      "Accuracy: 0.8235, Recall: 0.8731, F1 Score: 0.9032\n",
      "Average IoU: 0.8573\n"
     ]
    },
    {
     "name": "stderr",
     "output_type": "stream",
     "text": [
      "Validation: 100%|██████████████████████████████████████████████████████████████████████| 40/40 [00:23<00:00,  1.68it/s]\n"
     ]
    },
    {
     "name": "stdout",
     "output_type": "stream",
     "text": [
      "TP: 396.0000, FP: 33.0000, FN: 52.0000\n",
      "Accuracy: 0.8233, Recall: 0.8839, F1 Score: 0.9031\n",
      "Average IoU: 0.8565\n"
     ]
    },
    {
     "name": "stderr",
     "output_type": "stream",
     "text": [
      "Validation: 100%|██████████████████████████████████████████████████████████████████████| 40/40 [00:24<00:00,  1.64it/s]\n"
     ]
    },
    {
     "name": "stdout",
     "output_type": "stream",
     "text": [
      "TP: 399.0000, FP: 34.0000, FN: 48.0000\n",
      "Accuracy: 0.8295, Recall: 0.8926, F1 Score: 0.9068\n",
      "Average IoU: 0.8561\n"
     ]
    },
    {
     "name": "stderr",
     "output_type": "stream",
     "text": [
      "Validation: 100%|██████████████████████████████████████████████████████████████████████| 40/40 [00:22<00:00,  1.80it/s]\n"
     ]
    },
    {
     "name": "stdout",
     "output_type": "stream",
     "text": [
      "TP: 400.0000, FP: 36.0000, FN: 46.0000\n",
      "Accuracy: 0.8299, Recall: 0.8969, F1 Score: 0.9070\n",
      "Average IoU: 0.8558\n"
     ]
    },
    {
     "name": "stderr",
     "output_type": "stream",
     "text": [
      "Validation: 100%|██████████████████████████████████████████████████████████████████████| 40/40 [00:21<00:00,  1.83it/s]\n"
     ]
    },
    {
     "name": "stdout",
     "output_type": "stream",
     "text": [
      "TP: 388.0000, FP: 17.0000, FN: 65.0000\n",
      "Accuracy: 0.8255, Recall: 0.8565, F1 Score: 0.9044\n",
      "Average IoU: 0.8591\n"
     ]
    },
    {
     "name": "stderr",
     "output_type": "stream",
     "text": [
      "Validation: 100%|██████████████████████████████████████████████████████████████████████| 40/40 [00:21<00:00,  1.83it/s]\n"
     ]
    },
    {
     "name": "stdout",
     "output_type": "stream",
     "text": [
      "TP: 388.0000, FP: 22.0000, FN: 64.0000\n",
      "Accuracy: 0.8186, Recall: 0.8584, F1 Score: 0.9002\n",
      "Average IoU: 0.8590\n"
     ]
    },
    {
     "name": "stderr",
     "output_type": "stream",
     "text": [
      "Validation: 100%|██████████████████████████████████████████████████████████████████████| 40/40 [00:21<00:00,  1.83it/s]\n"
     ]
    },
    {
     "name": "stdout",
     "output_type": "stream",
     "text": [
      "TP: 392.0000, FP: 24.0000, FN: 60.0000\n",
      "Accuracy: 0.8235, Recall: 0.8673, F1 Score: 0.9032\n",
      "Average IoU: 0.8587\n"
     ]
    },
    {
     "name": "stderr",
     "output_type": "stream",
     "text": [
      "Validation: 100%|██████████████████████████████████████████████████████████████████████| 40/40 [00:21<00:00,  1.83it/s]\n"
     ]
    },
    {
     "name": "stdout",
     "output_type": "stream",
     "text": [
      "TP: 394.0000, FP: 25.0000, FN: 57.0000\n",
      "Accuracy: 0.8277, Recall: 0.8736, F1 Score: 0.9057\n",
      "Average IoU: 0.8585\n"
     ]
    },
    {
     "name": "stderr",
     "output_type": "stream",
     "text": [
      "Validation: 100%|██████████████████████████████████████████████████████████████████████| 40/40 [00:21<00:00,  1.83it/s]\n"
     ]
    },
    {
     "name": "stdout",
     "output_type": "stream",
     "text": [
      "TP: 395.0000, FP: 25.0000, FN: 56.0000\n",
      "Accuracy: 0.8298, Recall: 0.8758, F1 Score: 0.9070\n",
      "Average IoU: 0.8581\n"
     ]
    },
    {
     "name": "stderr",
     "output_type": "stream",
     "text": [
      "Validation: 100%|██████████████████████████████████████████████████████████████████████| 40/40 [00:21<00:00,  1.83it/s]\n"
     ]
    },
    {
     "name": "stdout",
     "output_type": "stream",
     "text": [
      "TP: 377.0000, FP: 13.0000, FN: 78.0000\n",
      "Accuracy: 0.8056, Recall: 0.8286, F1 Score: 0.8923\n",
      "Average IoU: 0.8599\n"
     ]
    },
    {
     "name": "stderr",
     "output_type": "stream",
     "text": [
      "Validation: 100%|██████████████████████████████████████████████████████████████████████| 40/40 [00:21<00:00,  1.83it/s]\n"
     ]
    },
    {
     "name": "stdout",
     "output_type": "stream",
     "text": [
      "TP: 377.0000, FP: 15.0000, FN: 78.0000\n",
      "Accuracy: 0.8021, Recall: 0.8286, F1 Score: 0.8902\n",
      "Average IoU: 0.8599\n"
     ]
    },
    {
     "name": "stderr",
     "output_type": "stream",
     "text": [
      "Validation: 100%|██████████████████████████████████████████████████████████████████████| 40/40 [00:21<00:00,  1.83it/s]\n"
     ]
    },
    {
     "name": "stdout",
     "output_type": "stream",
     "text": [
      "TP: 381.0000, FP: 16.0000, FN: 74.0000\n",
      "Accuracy: 0.8089, Recall: 0.8374, F1 Score: 0.8944\n",
      "Average IoU: 0.8595\n"
     ]
    },
    {
     "name": "stderr",
     "output_type": "stream",
     "text": [
      "Validation: 100%|██████████████████████████████████████████████████████████████████████| 40/40 [00:21<00:00,  1.83it/s]\n"
     ]
    },
    {
     "name": "stdout",
     "output_type": "stream",
     "text": [
      "TP: 382.0000, FP: 16.0000, FN: 73.0000\n",
      "Accuracy: 0.8110, Recall: 0.8396, F1 Score: 0.8957\n",
      "Average IoU: 0.8597\n"
     ]
    },
    {
     "name": "stderr",
     "output_type": "stream",
     "text": [
      "Validation: 100%|██████████████████████████████████████████████████████████████████████| 40/40 [00:21<00:00,  1.82it/s]\n"
     ]
    },
    {
     "name": "stdout",
     "output_type": "stream",
     "text": [
      "TP: 382.0000, FP: 16.0000, FN: 73.0000\n",
      "Accuracy: 0.8110, Recall: 0.8396, F1 Score: 0.8957\n",
      "Average IoU: 0.8597\n"
     ]
    },
    {
     "name": "stderr",
     "output_type": "stream",
     "text": [
      "Validation: 100%|██████████████████████████████████████████████████████████████████████| 40/40 [00:21<00:00,  1.82it/s]\n"
     ]
    },
    {
     "name": "stdout",
     "output_type": "stream",
     "text": [
      "TP: 353.0000, FP: 3.0000, FN: 111.0000\n",
      "Accuracy: 0.7559, Recall: 0.7608, F1 Score: 0.8610\n",
      "Average IoU: 0.8643\n"
     ]
    },
    {
     "name": "stderr",
     "output_type": "stream",
     "text": [
      "Validation: 100%|██████████████████████████████████████████████████████████████████████| 40/40 [00:21<00:00,  1.83it/s]\n"
     ]
    },
    {
     "name": "stdout",
     "output_type": "stream",
     "text": [
      "TP: 353.0000, FP: 4.0000, FN: 111.0000\n",
      "Accuracy: 0.7543, Recall: 0.7608, F1 Score: 0.8599\n",
      "Average IoU: 0.8643\n"
     ]
    },
    {
     "name": "stderr",
     "output_type": "stream",
     "text": [
      "Validation: 100%|██████████████████████████████████████████████████████████████████████| 40/40 [00:21<00:00,  1.83it/s]\n"
     ]
    },
    {
     "name": "stdout",
     "output_type": "stream",
     "text": [
      "TP: 357.0000, FP: 5.0000, FN: 107.0000\n",
      "Accuracy: 0.7612, Recall: 0.7694, F1 Score: 0.8644\n",
      "Average IoU: 0.8639\n"
     ]
    },
    {
     "name": "stderr",
     "output_type": "stream",
     "text": [
      "Validation: 100%|██████████████████████████████████████████████████████████████████████| 40/40 [00:21<00:00,  1.83it/s]\n"
     ]
    },
    {
     "name": "stdout",
     "output_type": "stream",
     "text": [
      "TP: 358.0000, FP: 5.0000, FN: 106.0000\n",
      "Accuracy: 0.7633, Recall: 0.7716, F1 Score: 0.8658\n",
      "Average IoU: 0.8641\n"
     ]
    },
    {
     "name": "stderr",
     "output_type": "stream",
     "text": [
      "Validation: 100%|██████████████████████████████████████████████████████████████████████| 40/40 [00:21<00:00,  1.83it/s]\n"
     ]
    },
    {
     "name": "stdout",
     "output_type": "stream",
     "text": [
      "TP: 358.0000, FP: 5.0000, FN: 106.0000\n",
      "Accuracy: 0.7633, Recall: 0.7716, F1 Score: 0.8658\n",
      "Average IoU: 0.8641\n"
     ]
    },
    {
     "name": "stderr",
     "output_type": "stream",
     "text": [
      "Validation: 100%|██████████████████████████████████████████████████████████████████████| 40/40 [00:21<00:00,  1.83it/s]\n"
     ]
    },
    {
     "name": "stdout",
     "output_type": "stream",
     "text": [
      "TP: 394.0000, FP: 25.0000, FN: 53.0000\n",
      "Accuracy: 0.8347, Recall: 0.8814, F1 Score: 0.9099\n",
      "Average IoU: 0.8549\n"
     ]
    },
    {
     "name": "stderr",
     "output_type": "stream",
     "text": [
      "Validation: 100%|██████████████████████████████████████████████████████████████████████| 40/40 [00:21<00:00,  1.83it/s]\n"
     ]
    },
    {
     "name": "stdout",
     "output_type": "stream",
     "text": [
      "TP: 395.0000, FP: 37.0000, FN: 50.0000\n",
      "Accuracy: 0.8195, Recall: 0.8876, F1 Score: 0.9008\n",
      "Average IoU: 0.8543\n"
     ]
    },
    {
     "name": "stderr",
     "output_type": "stream",
     "text": [
      "Validation: 100%|██████████████████████████████████████████████████████████████████████| 40/40 [00:21<00:00,  1.83it/s]\n"
     ]
    },
    {
     "name": "stdout",
     "output_type": "stream",
     "text": [
      "TP: 399.0000, FP: 46.0000, FN: 45.0000\n",
      "Accuracy: 0.8143, Recall: 0.8986, F1 Score: 0.8976\n",
      "Average IoU: 0.8535\n"
     ]
    },
    {
     "name": "stderr",
     "output_type": "stream",
     "text": [
      "Validation: 100%|██████████████████████████████████████████████████████████████████████| 40/40 [00:21<00:00,  1.83it/s]\n"
     ]
    },
    {
     "name": "stdout",
     "output_type": "stream",
     "text": [
      "TP: 402.0000, FP: 51.0000, FN: 40.0000\n",
      "Accuracy: 0.8154, Recall: 0.9095, F1 Score: 0.8983\n",
      "Average IoU: 0.8527\n"
     ]
    },
    {
     "name": "stderr",
     "output_type": "stream",
     "text": [
      "Validation: 100%|██████████████████████████████████████████████████████████████████████| 40/40 [00:21<00:00,  1.83it/s]\n"
     ]
    },
    {
     "name": "stdout",
     "output_type": "stream",
     "text": [
      "TP: 403.0000, FP: 55.0000, FN: 38.0000\n",
      "Accuracy: 0.8125, Recall: 0.9138, F1 Score: 0.8966\n",
      "Average IoU: 0.8524\n"
     ]
    },
    {
     "name": "stderr",
     "output_type": "stream",
     "text": [
      "Validation: 100%|██████████████████████████████████████████████████████████████████████| 40/40 [00:21<00:00,  1.83it/s]\n"
     ]
    },
    {
     "name": "stdout",
     "output_type": "stream",
     "text": [
      "TP: 393.0000, FP: 24.0000, FN: 54.0000\n",
      "Accuracy: 0.8344, Recall: 0.8792, F1 Score: 0.9097\n",
      "Average IoU: 0.8554\n"
     ]
    },
    {
     "name": "stderr",
     "output_type": "stream",
     "text": [
      "Validation: 100%|██████████████████████████████████████████████████████████████████████| 40/40 [00:21<00:00,  1.83it/s]\n"
     ]
    },
    {
     "name": "stdout",
     "output_type": "stream",
     "text": [
      "TP: 394.0000, FP: 35.0000, FN: 52.0000\n",
      "Accuracy: 0.8191, Recall: 0.8834, F1 Score: 0.9006\n",
      "Average IoU: 0.8551\n"
     ]
    },
    {
     "name": "stderr",
     "output_type": "stream",
     "text": [
      "Validation: 100%|██████████████████████████████████████████████████████████████████████| 40/40 [00:21<00:00,  1.83it/s]\n"
     ]
    },
    {
     "name": "stdout",
     "output_type": "stream",
     "text": [
      "TP: 398.0000, FP: 41.0000, FN: 47.0000\n",
      "Accuracy: 0.8189, Recall: 0.8944, F1 Score: 0.9005\n",
      "Average IoU: 0.8543\n"
     ]
    },
    {
     "name": "stderr",
     "output_type": "stream",
     "text": [
      "Validation: 100%|██████████████████████████████████████████████████████████████████████| 40/40 [00:21<00:00,  1.83it/s]\n"
     ]
    },
    {
     "name": "stdout",
     "output_type": "stream",
     "text": [
      "TP: 401.0000, FP: 43.0000, FN: 43.0000\n",
      "Accuracy: 0.8234, Recall: 0.9032, F1 Score: 0.9032\n",
      "Average IoU: 0.8540\n"
     ]
    },
    {
     "name": "stderr",
     "output_type": "stream",
     "text": [
      "Validation: 100%|██████████████████████████████████████████████████████████████████████| 40/40 [00:21<00:00,  1.83it/s]\n"
     ]
    },
    {
     "name": "stdout",
     "output_type": "stream",
     "text": [
      "TP: 402.0000, FP: 45.0000, FN: 41.0000\n",
      "Accuracy: 0.8238, Recall: 0.9074, F1 Score: 0.9034\n",
      "Average IoU: 0.8537\n"
     ]
    },
    {
     "name": "stderr",
     "output_type": "stream",
     "text": [
      "Validation: 100%|██████████████████████████████████████████████████████████████████████| 40/40 [00:21<00:00,  1.83it/s]\n"
     ]
    },
    {
     "name": "stdout",
     "output_type": "stream",
     "text": [
      "TP: 392.0000, FP: 20.0000, FN: 58.0000\n",
      "Accuracy: 0.8340, Recall: 0.8711, F1 Score: 0.9095\n",
      "Average IoU: 0.8574\n"
     ]
    },
    {
     "name": "stderr",
     "output_type": "stream",
     "text": [
      "Validation: 100%|██████████████████████████████████████████████████████████████████████| 40/40 [00:21<00:00,  1.83it/s]\n"
     ]
    },
    {
     "name": "stdout",
     "output_type": "stream",
     "text": [
      "TP: 392.0000, FP: 27.0000, FN: 57.0000\n",
      "Accuracy: 0.8235, Recall: 0.8731, F1 Score: 0.9032\n",
      "Average IoU: 0.8573\n"
     ]
    },
    {
     "name": "stderr",
     "output_type": "stream",
     "text": [
      "Validation: 100%|██████████████████████████████████████████████████████████████████████| 40/40 [00:21<00:00,  1.83it/s]\n"
     ]
    },
    {
     "name": "stdout",
     "output_type": "stream",
     "text": [
      "TP: 396.0000, FP: 33.0000, FN: 52.0000\n",
      "Accuracy: 0.8233, Recall: 0.8839, F1 Score: 0.9031\n",
      "Average IoU: 0.8565\n"
     ]
    },
    {
     "name": "stderr",
     "output_type": "stream",
     "text": [
      "Validation: 100%|██████████████████████████████████████████████████████████████████████| 40/40 [00:21<00:00,  1.83it/s]\n"
     ]
    },
    {
     "name": "stdout",
     "output_type": "stream",
     "text": [
      "TP: 399.0000, FP: 34.0000, FN: 48.0000\n",
      "Accuracy: 0.8295, Recall: 0.8926, F1 Score: 0.9068\n",
      "Average IoU: 0.8561\n"
     ]
    },
    {
     "name": "stderr",
     "output_type": "stream",
     "text": [
      "Validation: 100%|██████████████████████████████████████████████████████████████████████| 40/40 [00:21<00:00,  1.83it/s]\n"
     ]
    },
    {
     "name": "stdout",
     "output_type": "stream",
     "text": [
      "TP: 400.0000, FP: 36.0000, FN: 46.0000\n",
      "Accuracy: 0.8299, Recall: 0.8969, F1 Score: 0.9070\n",
      "Average IoU: 0.8558\n"
     ]
    },
    {
     "name": "stderr",
     "output_type": "stream",
     "text": [
      "Validation: 100%|██████████████████████████████████████████████████████████████████████| 40/40 [00:21<00:00,  1.83it/s]\n"
     ]
    },
    {
     "name": "stdout",
     "output_type": "stream",
     "text": [
      "TP: 388.0000, FP: 17.0000, FN: 65.0000\n",
      "Accuracy: 0.8255, Recall: 0.8565, F1 Score: 0.9044\n",
      "Average IoU: 0.8591\n"
     ]
    },
    {
     "name": "stderr",
     "output_type": "stream",
     "text": [
      "Validation: 100%|██████████████████████████████████████████████████████████████████████| 40/40 [00:21<00:00,  1.83it/s]\n"
     ]
    },
    {
     "name": "stdout",
     "output_type": "stream",
     "text": [
      "TP: 388.0000, FP: 22.0000, FN: 64.0000\n",
      "Accuracy: 0.8186, Recall: 0.8584, F1 Score: 0.9002\n",
      "Average IoU: 0.8590\n"
     ]
    },
    {
     "name": "stderr",
     "output_type": "stream",
     "text": [
      "Validation: 100%|██████████████████████████████████████████████████████████████████████| 40/40 [00:21<00:00,  1.83it/s]\n"
     ]
    },
    {
     "name": "stdout",
     "output_type": "stream",
     "text": [
      "TP: 392.0000, FP: 24.0000, FN: 60.0000\n",
      "Accuracy: 0.8235, Recall: 0.8673, F1 Score: 0.9032\n",
      "Average IoU: 0.8587\n"
     ]
    },
    {
     "name": "stderr",
     "output_type": "stream",
     "text": [
      "Validation: 100%|██████████████████████████████████████████████████████████████████████| 40/40 [00:21<00:00,  1.83it/s]\n"
     ]
    },
    {
     "name": "stdout",
     "output_type": "stream",
     "text": [
      "TP: 394.0000, FP: 25.0000, FN: 57.0000\n",
      "Accuracy: 0.8277, Recall: 0.8736, F1 Score: 0.9057\n",
      "Average IoU: 0.8585\n"
     ]
    },
    {
     "name": "stderr",
     "output_type": "stream",
     "text": [
      "Validation: 100%|██████████████████████████████████████████████████████████████████████| 40/40 [00:21<00:00,  1.83it/s]\n"
     ]
    },
    {
     "name": "stdout",
     "output_type": "stream",
     "text": [
      "TP: 395.0000, FP: 25.0000, FN: 56.0000\n",
      "Accuracy: 0.8298, Recall: 0.8758, F1 Score: 0.9070\n",
      "Average IoU: 0.8581\n"
     ]
    },
    {
     "name": "stderr",
     "output_type": "stream",
     "text": [
      "Validation: 100%|██████████████████████████████████████████████████████████████████████| 40/40 [00:21<00:00,  1.83it/s]\n"
     ]
    },
    {
     "name": "stdout",
     "output_type": "stream",
     "text": [
      "TP: 377.0000, FP: 13.0000, FN: 78.0000\n",
      "Accuracy: 0.8056, Recall: 0.8286, F1 Score: 0.8923\n",
      "Average IoU: 0.8599\n"
     ]
    },
    {
     "name": "stderr",
     "output_type": "stream",
     "text": [
      "Validation: 100%|██████████████████████████████████████████████████████████████████████| 40/40 [00:21<00:00,  1.83it/s]\n"
     ]
    },
    {
     "name": "stdout",
     "output_type": "stream",
     "text": [
      "TP: 377.0000, FP: 15.0000, FN: 78.0000\n",
      "Accuracy: 0.8021, Recall: 0.8286, F1 Score: 0.8902\n",
      "Average IoU: 0.8599\n"
     ]
    },
    {
     "name": "stderr",
     "output_type": "stream",
     "text": [
      "Validation: 100%|██████████████████████████████████████████████████████████████████████| 40/40 [00:21<00:00,  1.82it/s]\n"
     ]
    },
    {
     "name": "stdout",
     "output_type": "stream",
     "text": [
      "TP: 381.0000, FP: 16.0000, FN: 74.0000\n",
      "Accuracy: 0.8089, Recall: 0.8374, F1 Score: 0.8944\n",
      "Average IoU: 0.8595\n"
     ]
    },
    {
     "name": "stderr",
     "output_type": "stream",
     "text": [
      "Validation: 100%|██████████████████████████████████████████████████████████████████████| 40/40 [00:21<00:00,  1.83it/s]\n"
     ]
    },
    {
     "name": "stdout",
     "output_type": "stream",
     "text": [
      "TP: 382.0000, FP: 16.0000, FN: 73.0000\n",
      "Accuracy: 0.8110, Recall: 0.8396, F1 Score: 0.8957\n",
      "Average IoU: 0.8597\n"
     ]
    },
    {
     "name": "stderr",
     "output_type": "stream",
     "text": [
      "Validation: 100%|██████████████████████████████████████████████████████████████████████| 40/40 [00:21<00:00,  1.83it/s]\n"
     ]
    },
    {
     "name": "stdout",
     "output_type": "stream",
     "text": [
      "TP: 382.0000, FP: 16.0000, FN: 73.0000\n",
      "Accuracy: 0.8110, Recall: 0.8396, F1 Score: 0.8957\n",
      "Average IoU: 0.8597\n"
     ]
    },
    {
     "name": "stderr",
     "output_type": "stream",
     "text": [
      "Validation: 100%|██████████████████████████████████████████████████████████████████████| 40/40 [00:21<00:00,  1.83it/s]\n"
     ]
    },
    {
     "name": "stdout",
     "output_type": "stream",
     "text": [
      "TP: 353.0000, FP: 3.0000, FN: 111.0000\n",
      "Accuracy: 0.7559, Recall: 0.7608, F1 Score: 0.8610\n",
      "Average IoU: 0.8643\n"
     ]
    },
    {
     "name": "stderr",
     "output_type": "stream",
     "text": [
      "Validation: 100%|██████████████████████████████████████████████████████████████████████| 40/40 [00:21<00:00,  1.83it/s]\n"
     ]
    },
    {
     "name": "stdout",
     "output_type": "stream",
     "text": [
      "TP: 353.0000, FP: 4.0000, FN: 111.0000\n",
      "Accuracy: 0.7543, Recall: 0.7608, F1 Score: 0.8599\n",
      "Average IoU: 0.8643\n"
     ]
    },
    {
     "name": "stderr",
     "output_type": "stream",
     "text": [
      "Validation: 100%|██████████████████████████████████████████████████████████████████████| 40/40 [00:21<00:00,  1.83it/s]\n"
     ]
    },
    {
     "name": "stdout",
     "output_type": "stream",
     "text": [
      "TP: 357.0000, FP: 5.0000, FN: 107.0000\n",
      "Accuracy: 0.7612, Recall: 0.7694, F1 Score: 0.8644\n",
      "Average IoU: 0.8639\n"
     ]
    },
    {
     "name": "stderr",
     "output_type": "stream",
     "text": [
      "Validation: 100%|██████████████████████████████████████████████████████████████████████| 40/40 [00:21<00:00,  1.83it/s]\n"
     ]
    },
    {
     "name": "stdout",
     "output_type": "stream",
     "text": [
      "TP: 358.0000, FP: 5.0000, FN: 106.0000\n",
      "Accuracy: 0.7633, Recall: 0.7716, F1 Score: 0.8658\n",
      "Average IoU: 0.8641\n"
     ]
    },
    {
     "name": "stderr",
     "output_type": "stream",
     "text": [
      "Validation: 100%|██████████████████████████████████████████████████████████████████████| 40/40 [00:21<00:00,  1.83it/s]\n"
     ]
    },
    {
     "name": "stdout",
     "output_type": "stream",
     "text": [
      "TP: 358.0000, FP: 5.0000, FN: 106.0000\n",
      "Accuracy: 0.7633, Recall: 0.7716, F1 Score: 0.8658\n",
      "Average IoU: 0.8641\n"
     ]
    },
    {
     "name": "stderr",
     "output_type": "stream",
     "text": [
      "Validation: 100%|██████████████████████████████████████████████████████████████████████| 40/40 [00:21<00:00,  1.83it/s]\n"
     ]
    },
    {
     "name": "stdout",
     "output_type": "stream",
     "text": [
      "TP: 390.0000, FP: 29.0000, FN: 58.0000\n",
      "Accuracy: 0.8176, Recall: 0.8705, F1 Score: 0.8997\n",
      "Average IoU: 0.8609\n"
     ]
    },
    {
     "name": "stderr",
     "output_type": "stream",
     "text": [
      "Validation: 100%|██████████████████████████████████████████████████████████████████████| 40/40 [00:21<00:00,  1.83it/s]\n"
     ]
    },
    {
     "name": "stdout",
     "output_type": "stream",
     "text": [
      "TP: 391.0000, FP: 41.0000, FN: 55.0000\n",
      "Accuracy: 0.8029, Recall: 0.8767, F1 Score: 0.8907\n",
      "Average IoU: 0.8603\n"
     ]
    },
    {
     "name": "stderr",
     "output_type": "stream",
     "text": [
      "Validation: 100%|██████████████████████████████████████████████████████████████████████| 40/40 [00:21<00:00,  1.83it/s]\n"
     ]
    },
    {
     "name": "stdout",
     "output_type": "stream",
     "text": [
      "TP: 395.0000, FP: 50.0000, FN: 50.0000\n",
      "Accuracy: 0.7980, Recall: 0.8876, F1 Score: 0.8876\n",
      "Average IoU: 0.8594\n"
     ]
    },
    {
     "name": "stderr",
     "output_type": "stream",
     "text": [
      "Validation: 100%|██████████████████████████████████████████████████████████████████████| 40/40 [00:21<00:00,  1.83it/s]\n"
     ]
    },
    {
     "name": "stdout",
     "output_type": "stream",
     "text": [
      "TP: 398.0000, FP: 55.0000, FN: 45.0000\n",
      "Accuracy: 0.7992, Recall: 0.8984, F1 Score: 0.8884\n",
      "Average IoU: 0.8585\n"
     ]
    },
    {
     "name": "stderr",
     "output_type": "stream",
     "text": [
      "Validation: 100%|██████████████████████████████████████████████████████████████████████| 40/40 [00:21<00:00,  1.83it/s]\n"
     ]
    },
    {
     "name": "stdout",
     "output_type": "stream",
     "text": [
      "TP: 400.0000, FP: 58.0000, FN: 43.0000\n",
      "Accuracy: 0.7984, Recall: 0.9029, F1 Score: 0.8879\n",
      "Average IoU: 0.8582\n"
     ]
    },
    {
     "name": "stderr",
     "output_type": "stream",
     "text": [
      "Validation: 100%|██████████████████████████████████████████████████████████████████████| 40/40 [00:21<00:00,  1.82it/s]\n"
     ]
    },
    {
     "name": "stdout",
     "output_type": "stream",
     "text": [
      "TP: 389.0000, FP: 28.0000, FN: 59.0000\n",
      "Accuracy: 0.8172, Recall: 0.8683, F1 Score: 0.8994\n",
      "Average IoU: 0.8615\n"
     ]
    },
    {
     "name": "stderr",
     "output_type": "stream",
     "text": [
      "Validation: 100%|██████████████████████████████████████████████████████████████████████| 40/40 [00:21<00:00,  1.83it/s]\n"
     ]
    },
    {
     "name": "stdout",
     "output_type": "stream",
     "text": [
      "TP: 390.0000, FP: 39.0000, FN: 57.0000\n",
      "Accuracy: 0.8025, Recall: 0.8725, F1 Score: 0.8904\n",
      "Average IoU: 0.8611\n"
     ]
    },
    {
     "name": "stderr",
     "output_type": "stream",
     "text": [
      "Validation: 100%|██████████████████████████████████████████████████████████████████████| 40/40 [00:21<00:00,  1.83it/s]\n"
     ]
    },
    {
     "name": "stdout",
     "output_type": "stream",
     "text": [
      "TP: 394.0000, FP: 45.0000, FN: 52.0000\n",
      "Accuracy: 0.8024, Recall: 0.8834, F1 Score: 0.8904\n",
      "Average IoU: 0.8602\n"
     ]
    },
    {
     "name": "stderr",
     "output_type": "stream",
     "text": [
      "Validation: 100%|██████████████████████████████████████████████████████████████████████| 40/40 [00:21<00:00,  1.83it/s]\n"
     ]
    },
    {
     "name": "stdout",
     "output_type": "stream",
     "text": [
      "TP: 397.0000, FP: 47.0000, FN: 48.0000\n",
      "Accuracy: 0.8069, Recall: 0.8921, F1 Score: 0.8931\n",
      "Average IoU: 0.8599\n"
     ]
    },
    {
     "name": "stderr",
     "output_type": "stream",
     "text": [
      "Validation: 100%|██████████████████████████████████████████████████████████████████████| 40/40 [00:21<00:00,  1.83it/s]\n"
     ]
    },
    {
     "name": "stdout",
     "output_type": "stream",
     "text": [
      "TP: 399.0000, FP: 48.0000, FN: 46.0000\n",
      "Accuracy: 0.8093, Recall: 0.8966, F1 Score: 0.8946\n",
      "Average IoU: 0.8595\n"
     ]
    },
    {
     "name": "stderr",
     "output_type": "stream",
     "text": [
      "Validation: 100%|██████████████████████████████████████████████████████████████████████| 40/40 [00:21<00:00,  1.83it/s]\n"
     ]
    },
    {
     "name": "stdout",
     "output_type": "stream",
     "text": [
      "TP: 389.0000, FP: 23.0000, FN: 62.0000\n",
      "Accuracy: 0.8207, Recall: 0.8625, F1 Score: 0.9015\n",
      "Average IoU: 0.8622\n"
     ]
    },
    {
     "name": "stderr",
     "output_type": "stream",
     "text": [
      "Validation: 100%|██████████████████████████████████████████████████████████████████████| 40/40 [00:21<00:00,  1.83it/s]\n"
     ]
    },
    {
     "name": "stdout",
     "output_type": "stream",
     "text": [
      "TP: 389.0000, FP: 30.0000, FN: 61.0000\n",
      "Accuracy: 0.8104, Recall: 0.8644, F1 Score: 0.8953\n",
      "Average IoU: 0.8622\n"
     ]
    },
    {
     "name": "stderr",
     "output_type": "stream",
     "text": [
      "Validation: 100%|██████████████████████████████████████████████████████████████████████| 40/40 [00:21<00:00,  1.83it/s]\n"
     ]
    },
    {
     "name": "stdout",
     "output_type": "stream",
     "text": [
      "TP: 393.0000, FP: 36.0000, FN: 56.0000\n",
      "Accuracy: 0.8103, Recall: 0.8753, F1 Score: 0.8952\n",
      "Average IoU: 0.8612\n"
     ]
    },
    {
     "name": "stderr",
     "output_type": "stream",
     "text": [
      "Validation: 100%|██████████████████████████████████████████████████████████████████████| 40/40 [00:21<00:00,  1.83it/s]\n"
     ]
    },
    {
     "name": "stdout",
     "output_type": "stream",
     "text": [
      "TP: 396.0000, FP: 37.0000, FN: 52.0000\n",
      "Accuracy: 0.8165, Recall: 0.8839, F1 Score: 0.8990\n",
      "Average IoU: 0.8609\n"
     ]
    },
    {
     "name": "stderr",
     "output_type": "stream",
     "text": [
      "Validation: 100%|██████████████████████████████████████████████████████████████████████| 40/40 [00:21<00:00,  1.83it/s]\n"
     ]
    },
    {
     "name": "stdout",
     "output_type": "stream",
     "text": [
      "TP: 398.0000, FP: 38.0000, FN: 50.0000\n",
      "Accuracy: 0.8189, Recall: 0.8884, F1 Score: 0.9005\n",
      "Average IoU: 0.8605\n"
     ]
    },
    {
     "name": "stderr",
     "output_type": "stream",
     "text": [
      "Validation: 100%|██████████████████████████████████████████████████████████████████████| 40/40 [00:21<00:00,  1.83it/s]\n"
     ]
    },
    {
     "name": "stdout",
     "output_type": "stream",
     "text": [
      "TP: 386.0000, FP: 19.0000, FN: 68.0000\n",
      "Accuracy: 0.8161, Recall: 0.8502, F1 Score: 0.8987\n",
      "Average IoU: 0.8628\n"
     ]
    },
    {
     "name": "stderr",
     "output_type": "stream",
     "text": [
      "Validation: 100%|██████████████████████████████████████████████████████████████████████| 40/40 [00:21<00:00,  1.83it/s]\n"
     ]
    },
    {
     "name": "stdout",
     "output_type": "stream",
     "text": [
      "TP: 386.0000, FP: 24.0000, FN: 67.0000\n",
      "Accuracy: 0.8092, Recall: 0.8521, F1 Score: 0.8946\n",
      "Average IoU: 0.8628\n"
     ]
    },
    {
     "name": "stderr",
     "output_type": "stream",
     "text": [
      "Validation: 100%|██████████████████████████████████████████████████████████████████████| 40/40 [00:21<00:00,  1.83it/s]\n"
     ]
    },
    {
     "name": "stdout",
     "output_type": "stream",
     "text": [
      "TP: 390.0000, FP: 26.0000, FN: 63.0000\n",
      "Accuracy: 0.8142, Recall: 0.8609, F1 Score: 0.8976\n",
      "Average IoU: 0.8624\n"
     ]
    },
    {
     "name": "stderr",
     "output_type": "stream",
     "text": [
      "Validation: 100%|██████████████████████████████████████████████████████████████████████| 40/40 [00:21<00:00,  1.83it/s]\n"
     ]
    },
    {
     "name": "stdout",
     "output_type": "stream",
     "text": [
      "TP: 392.0000, FP: 27.0000, FN: 60.0000\n",
      "Accuracy: 0.8184, Recall: 0.8673, F1 Score: 0.9001\n",
      "Average IoU: 0.8622\n"
     ]
    },
    {
     "name": "stderr",
     "output_type": "stream",
     "text": [
      "Validation: 100%|██████████████████████████████████████████████████████████████████████| 40/40 [00:21<00:00,  1.83it/s]\n"
     ]
    },
    {
     "name": "stdout",
     "output_type": "stream",
     "text": [
      "TP: 393.0000, FP: 27.0000, FN: 59.0000\n",
      "Accuracy: 0.8205, Recall: 0.8695, F1 Score: 0.9014\n",
      "Average IoU: 0.8618\n"
     ]
    },
    {
     "name": "stderr",
     "output_type": "stream",
     "text": [
      "Validation: 100%|██████████████████████████████████████████████████████████████████████| 40/40 [00:21<00:00,  1.83it/s]\n"
     ]
    },
    {
     "name": "stdout",
     "output_type": "stream",
     "text": [
      "TP: 375.0000, FP: 15.0000, FN: 81.0000\n",
      "Accuracy: 0.7962, Recall: 0.8224, F1 Score: 0.8865\n",
      "Average IoU: 0.8638\n"
     ]
    },
    {
     "name": "stderr",
     "output_type": "stream",
     "text": [
      "Validation: 100%|██████████████████████████████████████████████████████████████████████| 40/40 [00:21<00:00,  1.83it/s]\n"
     ]
    },
    {
     "name": "stdout",
     "output_type": "stream",
     "text": [
      "TP: 375.0000, FP: 17.0000, FN: 81.0000\n",
      "Accuracy: 0.7928, Recall: 0.8224, F1 Score: 0.8844\n",
      "Average IoU: 0.8638\n"
     ]
    },
    {
     "name": "stderr",
     "output_type": "stream",
     "text": [
      "Validation: 100%|██████████████████████████████████████████████████████████████████████| 40/40 [00:21<00:00,  1.83it/s]\n"
     ]
    },
    {
     "name": "stdout",
     "output_type": "stream",
     "text": [
      "TP: 379.0000, FP: 18.0000, FN: 77.0000\n",
      "Accuracy: 0.7996, Recall: 0.8311, F1 Score: 0.8886\n",
      "Average IoU: 0.8633\n"
     ]
    },
    {
     "name": "stderr",
     "output_type": "stream",
     "text": [
      "Validation: 100%|██████████████████████████████████████████████████████████████████████| 40/40 [00:21<00:00,  1.83it/s]\n"
     ]
    },
    {
     "name": "stdout",
     "output_type": "stream",
     "text": [
      "TP: 380.0000, FP: 18.0000, FN: 76.0000\n",
      "Accuracy: 0.8017, Recall: 0.8333, F1 Score: 0.8899\n",
      "Average IoU: 0.8635\n"
     ]
    },
    {
     "name": "stderr",
     "output_type": "stream",
     "text": [
      "Validation: 100%|██████████████████████████████████████████████████████████████████████| 40/40 [00:21<00:00,  1.83it/s]\n"
     ]
    },
    {
     "name": "stdout",
     "output_type": "stream",
     "text": [
      "TP: 380.0000, FP: 18.0000, FN: 76.0000\n",
      "Accuracy: 0.8017, Recall: 0.8333, F1 Score: 0.8899\n",
      "Average IoU: 0.8635\n"
     ]
    },
    {
     "name": "stderr",
     "output_type": "stream",
     "text": [
      "Validation: 100%|██████████████████████████████████████████████████████████████████████| 40/40 [00:21<00:00,  1.83it/s]\n"
     ]
    },
    {
     "name": "stdout",
     "output_type": "stream",
     "text": [
      "TP: 351.0000, FP: 5.0000, FN: 113.0000\n",
      "Accuracy: 0.7484, Recall: 0.7565, F1 Score: 0.8561\n",
      "Average IoU: 0.8671\n"
     ]
    },
    {
     "name": "stderr",
     "output_type": "stream",
     "text": [
      "Validation: 100%|██████████████████████████████████████████████████████████████████████| 40/40 [00:21<00:00,  1.83it/s]\n"
     ]
    },
    {
     "name": "stdout",
     "output_type": "stream",
     "text": [
      "TP: 351.0000, FP: 6.0000, FN: 113.0000\n",
      "Accuracy: 0.7468, Recall: 0.7565, F1 Score: 0.8551\n",
      "Average IoU: 0.8671\n"
     ]
    },
    {
     "name": "stderr",
     "output_type": "stream",
     "text": [
      "Validation: 100%|██████████████████████████████████████████████████████████████████████| 40/40 [00:21<00:00,  1.83it/s]\n"
     ]
    },
    {
     "name": "stdout",
     "output_type": "stream",
     "text": [
      "TP: 355.0000, FP: 7.0000, FN: 109.0000\n",
      "Accuracy: 0.7537, Recall: 0.7651, F1 Score: 0.8596\n",
      "Average IoU: 0.8666\n"
     ]
    },
    {
     "name": "stderr",
     "output_type": "stream",
     "text": [
      "Validation: 100%|██████████████████████████████████████████████████████████████████████| 40/40 [00:21<00:00,  1.83it/s]\n"
     ]
    },
    {
     "name": "stdout",
     "output_type": "stream",
     "text": [
      "TP: 356.0000, FP: 7.0000, FN: 108.0000\n",
      "Accuracy: 0.7558, Recall: 0.7672, F1 Score: 0.8609\n",
      "Average IoU: 0.8668\n"
     ]
    },
    {
     "name": "stderr",
     "output_type": "stream",
     "text": [
      "Validation: 100%|██████████████████████████████████████████████████████████████████████| 40/40 [00:21<00:00,  1.83it/s]\n"
     ]
    },
    {
     "name": "stdout",
     "output_type": "stream",
     "text": [
      "TP: 356.0000, FP: 7.0000, FN: 108.0000\n",
      "Accuracy: 0.7558, Recall: 0.7672, F1 Score: 0.8609\n",
      "Average IoU: 0.8668\n"
     ]
    },
    {
     "name": "stderr",
     "output_type": "stream",
     "text": [
      "Validation: 100%|██████████████████████████████████████████████████████████████████████| 40/40 [00:21<00:00,  1.83it/s]\n"
     ]
    },
    {
     "name": "stdout",
     "output_type": "stream",
     "text": [
      "TP: 387.0000, FP: 32.0000, FN: 62.0000\n",
      "Accuracy: 0.8046, Recall: 0.8619, F1 Score: 0.8917\n",
      "Average IoU: 0.8649\n"
     ]
    },
    {
     "name": "stderr",
     "output_type": "stream",
     "text": [
      "Validation: 100%|██████████████████████████████████████████████████████████████████████| 40/40 [00:21<00:00,  1.83it/s]\n"
     ]
    },
    {
     "name": "stdout",
     "output_type": "stream",
     "text": [
      "TP: 388.0000, FP: 44.0000, FN: 59.0000\n",
      "Accuracy: 0.7902, Recall: 0.8680, F1 Score: 0.8828\n",
      "Average IoU: 0.8642\n"
     ]
    },
    {
     "name": "stderr",
     "output_type": "stream",
     "text": [
      "Validation: 100%|██████████████████████████████████████████████████████████████████████| 40/40 [00:21<00:00,  1.83it/s]\n"
     ]
    },
    {
     "name": "stdout",
     "output_type": "stream",
     "text": [
      "TP: 392.0000, FP: 53.0000, FN: 54.0000\n",
      "Accuracy: 0.7856, Recall: 0.8789, F1 Score: 0.8799\n",
      "Average IoU: 0.8633\n"
     ]
    },
    {
     "name": "stderr",
     "output_type": "stream",
     "text": [
      "Validation: 100%|██████████████████████████████████████████████████████████████████████| 40/40 [00:21<00:00,  1.83it/s]\n"
     ]
    },
    {
     "name": "stdout",
     "output_type": "stream",
     "text": [
      "TP: 395.0000, FP: 58.0000, FN: 49.0000\n",
      "Accuracy: 0.7869, Recall: 0.8896, F1 Score: 0.8807\n",
      "Average IoU: 0.8623\n"
     ]
    },
    {
     "name": "stderr",
     "output_type": "stream",
     "text": [
      "Validation: 100%|██████████████████████████████████████████████████████████████████████| 40/40 [00:21<00:00,  1.83it/s]\n"
     ]
    },
    {
     "name": "stdout",
     "output_type": "stream",
     "text": [
      "TP: 397.0000, FP: 61.0000, FN: 47.0000\n",
      "Accuracy: 0.7861, Recall: 0.8941, F1 Score: 0.8803\n",
      "Average IoU: 0.8620\n"
     ]
    },
    {
     "name": "stderr",
     "output_type": "stream",
     "text": [
      "Validation: 100%|██████████████████████████████████████████████████████████████████████| 40/40 [00:21<00:00,  1.83it/s]\n"
     ]
    },
    {
     "name": "stdout",
     "output_type": "stream",
     "text": [
      "TP: 386.0000, FP: 31.0000, FN: 63.0000\n",
      "Accuracy: 0.8042, Recall: 0.8597, F1 Score: 0.8915\n",
      "Average IoU: 0.8655\n"
     ]
    },
    {
     "name": "stderr",
     "output_type": "stream",
     "text": [
      "Validation: 100%|██████████████████████████████████████████████████████████████████████| 40/40 [00:21<00:00,  1.83it/s]\n"
     ]
    },
    {
     "name": "stdout",
     "output_type": "stream",
     "text": [
      "TP: 387.0000, FP: 42.0000, FN: 61.0000\n",
      "Accuracy: 0.7898, Recall: 0.8638, F1 Score: 0.8826\n",
      "Average IoU: 0.8651\n"
     ]
    },
    {
     "name": "stderr",
     "output_type": "stream",
     "text": [
      "Validation: 100%|██████████████████████████████████████████████████████████████████████| 40/40 [00:21<00:00,  1.83it/s]\n"
     ]
    },
    {
     "name": "stdout",
     "output_type": "stream",
     "text": [
      "TP: 391.0000, FP: 48.0000, FN: 56.0000\n",
      "Accuracy: 0.7899, Recall: 0.8747, F1 Score: 0.8826\n",
      "Average IoU: 0.8641\n"
     ]
    },
    {
     "name": "stderr",
     "output_type": "stream",
     "text": [
      "Validation: 100%|██████████████████████████████████████████████████████████████████████| 40/40 [00:21<00:00,  1.83it/s]\n"
     ]
    },
    {
     "name": "stdout",
     "output_type": "stream",
     "text": [
      "TP: 394.0000, FP: 50.0000, FN: 52.0000\n",
      "Accuracy: 0.7944, Recall: 0.8834, F1 Score: 0.8854\n",
      "Average IoU: 0.8637\n"
     ]
    },
    {
     "name": "stderr",
     "output_type": "stream",
     "text": [
      "Validation: 100%|██████████████████████████████████████████████████████████████████████| 40/40 [00:21<00:00,  1.83it/s]\n"
     ]
    },
    {
     "name": "stdout",
     "output_type": "stream",
     "text": [
      "TP: 396.0000, FP: 51.0000, FN: 50.0000\n",
      "Accuracy: 0.7968, Recall: 0.8879, F1 Score: 0.8869\n",
      "Average IoU: 0.8634\n"
     ]
    },
    {
     "name": "stderr",
     "output_type": "stream",
     "text": [
      "Validation: 100%|██████████████████████████████████████████████████████████████████████| 40/40 [00:21<00:00,  1.83it/s]\n"
     ]
    },
    {
     "name": "stdout",
     "output_type": "stream",
     "text": [
      "TP: 386.0000, FP: 26.0000, FN: 65.0000\n",
      "Accuracy: 0.8092, Recall: 0.8559, F1 Score: 0.8946\n",
      "Average IoU: 0.8653\n"
     ]
    },
    {
     "name": "stderr",
     "output_type": "stream",
     "text": [
      "Validation: 100%|██████████████████████████████████████████████████████████████████████| 40/40 [00:21<00:00,  1.83it/s]\n"
     ]
    },
    {
     "name": "stdout",
     "output_type": "stream",
     "text": [
      "TP: 386.0000, FP: 33.0000, FN: 64.0000\n",
      "Accuracy: 0.7992, Recall: 0.8578, F1 Score: 0.8884\n",
      "Average IoU: 0.8653\n"
     ]
    },
    {
     "name": "stderr",
     "output_type": "stream",
     "text": [
      "Validation: 100%|██████████████████████████████████████████████████████████████████████| 40/40 [00:21<00:00,  1.83it/s]\n"
     ]
    },
    {
     "name": "stdout",
     "output_type": "stream",
     "text": [
      "TP: 390.0000, FP: 39.0000, FN: 59.0000\n",
      "Accuracy: 0.7992, Recall: 0.8686, F1 Score: 0.8884\n",
      "Average IoU: 0.8643\n"
     ]
    },
    {
     "name": "stderr",
     "output_type": "stream",
     "text": [
      "Validation: 100%|██████████████████████████████████████████████████████████████████████| 40/40 [00:21<00:00,  1.83it/s]\n"
     ]
    },
    {
     "name": "stdout",
     "output_type": "stream",
     "text": [
      "TP: 393.0000, FP: 40.0000, FN: 55.0000\n",
      "Accuracy: 0.8053, Recall: 0.8772, F1 Score: 0.8922\n",
      "Average IoU: 0.8639\n"
     ]
    },
    {
     "name": "stderr",
     "output_type": "stream",
     "text": [
      "Validation: 100%|██████████████████████████████████████████████████████████████████████| 40/40 [00:21<00:00,  1.83it/s]\n"
     ]
    },
    {
     "name": "stdout",
     "output_type": "stream",
     "text": [
      "TP: 395.0000, FP: 41.0000, FN: 53.0000\n",
      "Accuracy: 0.8078, Recall: 0.8817, F1 Score: 0.8937\n",
      "Average IoU: 0.8635\n"
     ]
    },
    {
     "name": "stderr",
     "output_type": "stream",
     "text": [
      "Validation: 100%|██████████████████████████████████████████████████████████████████████| 40/40 [00:21<00:00,  1.83it/s]\n"
     ]
    },
    {
     "name": "stdout",
     "output_type": "stream",
     "text": [
      "TP: 383.0000, FP: 22.0000, FN: 71.0000\n",
      "Accuracy: 0.8046, Recall: 0.8436, F1 Score: 0.8917\n",
      "Average IoU: 0.8660\n"
     ]
    },
    {
     "name": "stderr",
     "output_type": "stream",
     "text": [
      "Validation: 100%|██████████████████████████████████████████████████████████████████████| 40/40 [00:21<00:00,  1.83it/s]\n"
     ]
    },
    {
     "name": "stdout",
     "output_type": "stream",
     "text": [
      "TP: 383.0000, FP: 27.0000, FN: 70.0000\n",
      "Accuracy: 0.7979, Recall: 0.8455, F1 Score: 0.8876\n",
      "Average IoU: 0.8659\n"
     ]
    },
    {
     "name": "stderr",
     "output_type": "stream",
     "text": [
      "Validation: 100%|██████████████████████████████████████████████████████████████████████| 40/40 [00:21<00:00,  1.83it/s]\n"
     ]
    },
    {
     "name": "stdout",
     "output_type": "stream",
     "text": [
      "TP: 387.0000, FP: 29.0000, FN: 66.0000\n",
      "Accuracy: 0.8029, Recall: 0.8543, F1 Score: 0.8907\n",
      "Average IoU: 0.8655\n"
     ]
    },
    {
     "name": "stderr",
     "output_type": "stream",
     "text": [
      "Validation: 100%|██████████████████████████████████████████████████████████████████████| 40/40 [00:21<00:00,  1.83it/s]\n"
     ]
    },
    {
     "name": "stdout",
     "output_type": "stream",
     "text": [
      "TP: 389.0000, FP: 30.0000, FN: 63.0000\n",
      "Accuracy: 0.8071, Recall: 0.8606, F1 Score: 0.8932\n",
      "Average IoU: 0.8653\n"
     ]
    },
    {
     "name": "stderr",
     "output_type": "stream",
     "text": [
      "Validation: 100%|██████████████████████████████████████████████████████████████████████| 40/40 [00:21<00:00,  1.83it/s]\n"
     ]
    },
    {
     "name": "stdout",
     "output_type": "stream",
     "text": [
      "TP: 390.0000, FP: 30.0000, FN: 62.0000\n",
      "Accuracy: 0.8091, Recall: 0.8628, F1 Score: 0.8945\n",
      "Average IoU: 0.8649\n"
     ]
    },
    {
     "name": "stderr",
     "output_type": "stream",
     "text": [
      "Validation: 100%|██████████████████████████████████████████████████████████████████████| 40/40 [00:21<00:00,  1.83it/s]\n"
     ]
    },
    {
     "name": "stdout",
     "output_type": "stream",
     "text": [
      "TP: 372.0000, FP: 18.0000, FN: 84.0000\n",
      "Accuracy: 0.7848, Recall: 0.8158, F1 Score: 0.8794\n",
      "Average IoU: 0.8670\n"
     ]
    },
    {
     "name": "stderr",
     "output_type": "stream",
     "text": [
      "Validation: 100%|██████████████████████████████████████████████████████████████████████| 40/40 [00:21<00:00,  1.83it/s]\n"
     ]
    },
    {
     "name": "stdout",
     "output_type": "stream",
     "text": [
      "TP: 372.0000, FP: 20.0000, FN: 84.0000\n",
      "Accuracy: 0.7815, Recall: 0.8158, F1 Score: 0.8774\n",
      "Average IoU: 0.8670\n"
     ]
    },
    {
     "name": "stderr",
     "output_type": "stream",
     "text": [
      "Validation: 100%|██████████████████████████████████████████████████████████████████████| 40/40 [00:21<00:00,  1.83it/s]\n"
     ]
    },
    {
     "name": "stdout",
     "output_type": "stream",
     "text": [
      "TP: 376.0000, FP: 21.0000, FN: 80.0000\n",
      "Accuracy: 0.7883, Recall: 0.8246, F1 Score: 0.8816\n",
      "Average IoU: 0.8666\n"
     ]
    },
    {
     "name": "stderr",
     "output_type": "stream",
     "text": [
      "Validation: 100%|██████████████████████████████████████████████████████████████████████| 40/40 [00:21<00:00,  1.83it/s]\n"
     ]
    },
    {
     "name": "stdout",
     "output_type": "stream",
     "text": [
      "TP: 377.0000, FP: 21.0000, FN: 79.0000\n",
      "Accuracy: 0.7904, Recall: 0.8268, F1 Score: 0.8829\n",
      "Average IoU: 0.8668\n"
     ]
    },
    {
     "name": "stderr",
     "output_type": "stream",
     "text": [
      "Validation: 100%|██████████████████████████████████████████████████████████████████████| 40/40 [00:21<00:00,  1.83it/s]\n"
     ]
    },
    {
     "name": "stdout",
     "output_type": "stream",
     "text": [
      "TP: 377.0000, FP: 21.0000, FN: 79.0000\n",
      "Accuracy: 0.7904, Recall: 0.8268, F1 Score: 0.8829\n",
      "Average IoU: 0.8668\n"
     ]
    },
    {
     "name": "stderr",
     "output_type": "stream",
     "text": [
      "Validation: 100%|██████████████████████████████████████████████████████████████████████| 40/40 [00:21<00:00,  1.83it/s]\n"
     ]
    },
    {
     "name": "stdout",
     "output_type": "stream",
     "text": [
      "TP: 348.0000, FP: 8.0000, FN: 116.0000\n",
      "Accuracy: 0.7373, Recall: 0.7500, F1 Score: 0.8488\n",
      "Average IoU: 0.8707\n"
     ]
    },
    {
     "name": "stderr",
     "output_type": "stream",
     "text": [
      "Validation: 100%|██████████████████████████████████████████████████████████████████████| 40/40 [00:21<00:00,  1.83it/s]\n"
     ]
    },
    {
     "name": "stdout",
     "output_type": "stream",
     "text": [
      "TP: 348.0000, FP: 9.0000, FN: 116.0000\n",
      "Accuracy: 0.7357, Recall: 0.7500, F1 Score: 0.8477\n",
      "Average IoU: 0.8707\n"
     ]
    },
    {
     "name": "stderr",
     "output_type": "stream",
     "text": [
      "Validation: 100%|██████████████████████████████████████████████████████████████████████| 40/40 [00:21<00:00,  1.83it/s]\n"
     ]
    },
    {
     "name": "stdout",
     "output_type": "stream",
     "text": [
      "TP: 352.0000, FP: 10.0000, FN: 112.0000\n",
      "Accuracy: 0.7426, Recall: 0.7586, F1 Score: 0.8523\n",
      "Average IoU: 0.8701\n"
     ]
    },
    {
     "name": "stderr",
     "output_type": "stream",
     "text": [
      "Validation: 100%|██████████████████████████████████████████████████████████████████████| 40/40 [00:21<00:00,  1.83it/s]\n"
     ]
    },
    {
     "name": "stdout",
     "output_type": "stream",
     "text": [
      "TP: 353.0000, FP: 10.0000, FN: 111.0000\n",
      "Accuracy: 0.7447, Recall: 0.7608, F1 Score: 0.8537\n",
      "Average IoU: 0.8703\n"
     ]
    },
    {
     "name": "stderr",
     "output_type": "stream",
     "text": [
      "Validation: 100%|██████████████████████████████████████████████████████████████████████| 40/40 [00:21<00:00,  1.83it/s]\n"
     ]
    },
    {
     "name": "stdout",
     "output_type": "stream",
     "text": [
      "TP: 353.0000, FP: 10.0000, FN: 111.0000\n",
      "Accuracy: 0.7447, Recall: 0.7608, F1 Score: 0.8537\n",
      "Average IoU: 0.8703\n"
     ]
    },
    {
     "name": "stderr",
     "output_type": "stream",
     "text": [
      "Validation: 100%|██████████████████████████████████████████████████████████████████████| 40/40 [00:21<00:00,  1.83it/s]\n"
     ]
    },
    {
     "name": "stdout",
     "output_type": "stream",
     "text": [
      "TP: 378.0000, FP: 41.0000, FN: 71.0000\n",
      "Accuracy: 0.7714, Recall: 0.8419, F1 Score: 0.8710\n",
      "Average IoU: 0.8720\n"
     ]
    },
    {
     "name": "stderr",
     "output_type": "stream",
     "text": [
      "Validation: 100%|██████████████████████████████████████████████████████████████████████| 40/40 [00:21<00:00,  1.83it/s]\n"
     ]
    },
    {
     "name": "stdout",
     "output_type": "stream",
     "text": [
      "TP: 379.0000, FP: 53.0000, FN: 68.0000\n",
      "Accuracy: 0.7580, Recall: 0.8479, F1 Score: 0.8623\n",
      "Average IoU: 0.8713\n"
     ]
    },
    {
     "name": "stderr",
     "output_type": "stream",
     "text": [
      "Validation: 100%|██████████████████████████████████████████████████████████████████████| 40/40 [00:21<00:00,  1.83it/s]\n"
     ]
    },
    {
     "name": "stdout",
     "output_type": "stream",
     "text": [
      "TP: 383.0000, FP: 62.0000, FN: 63.0000\n",
      "Accuracy: 0.7539, Recall: 0.8587, F1 Score: 0.8597\n",
      "Average IoU: 0.8703\n"
     ]
    },
    {
     "name": "stderr",
     "output_type": "stream",
     "text": [
      "Validation: 100%|██████████████████████████████████████████████████████████████████████| 40/40 [00:21<00:00,  1.83it/s]\n"
     ]
    },
    {
     "name": "stdout",
     "output_type": "stream",
     "text": [
      "TP: 386.0000, FP: 67.0000, FN: 58.0000\n",
      "Accuracy: 0.7554, Recall: 0.8694, F1 Score: 0.8606\n",
      "Average IoU: 0.8692\n"
     ]
    },
    {
     "name": "stderr",
     "output_type": "stream",
     "text": [
      "Validation: 100%|██████████████████████████████████████████████████████████████████████| 40/40 [00:21<00:00,  1.83it/s]\n"
     ]
    },
    {
     "name": "stdout",
     "output_type": "stream",
     "text": [
      "TP: 388.0000, FP: 70.0000, FN: 56.0000\n",
      "Accuracy: 0.7549, Recall: 0.8739, F1 Score: 0.8603\n",
      "Average IoU: 0.8688\n"
     ]
    },
    {
     "name": "stderr",
     "output_type": "stream",
     "text": [
      "Validation: 100%|██████████████████████████████████████████████████████████████████████| 40/40 [00:21<00:00,  1.83it/s]\n"
     ]
    },
    {
     "name": "stdout",
     "output_type": "stream",
     "text": [
      "TP: 377.0000, FP: 40.0000, FN: 72.0000\n",
      "Accuracy: 0.7710, Recall: 0.8396, F1 Score: 0.8707\n",
      "Average IoU: 0.8727\n"
     ]
    },
    {
     "name": "stderr",
     "output_type": "stream",
     "text": [
      "Validation: 100%|██████████████████████████████████████████████████████████████████████| 40/40 [00:21<00:00,  1.83it/s]\n"
     ]
    },
    {
     "name": "stdout",
     "output_type": "stream",
     "text": [
      "TP: 378.0000, FP: 51.0000, FN: 70.0000\n",
      "Accuracy: 0.7575, Recall: 0.8438, F1 Score: 0.8620\n",
      "Average IoU: 0.8723\n"
     ]
    },
    {
     "name": "stderr",
     "output_type": "stream",
     "text": [
      "Validation: 100%|██████████████████████████████████████████████████████████████████████| 40/40 [00:21<00:00,  1.83it/s]\n"
     ]
    },
    {
     "name": "stdout",
     "output_type": "stream",
     "text": [
      "TP: 382.0000, FP: 57.0000, FN: 65.0000\n",
      "Accuracy: 0.7579, Recall: 0.8546, F1 Score: 0.8623\n",
      "Average IoU: 0.8712\n"
     ]
    },
    {
     "name": "stderr",
     "output_type": "stream",
     "text": [
      "Validation: 100%|██████████████████████████████████████████████████████████████████████| 40/40 [00:21<00:00,  1.83it/s]\n"
     ]
    },
    {
     "name": "stdout",
     "output_type": "stream",
     "text": [
      "TP: 385.0000, FP: 59.0000, FN: 61.0000\n",
      "Accuracy: 0.7624, Recall: 0.8632, F1 Score: 0.8652\n",
      "Average IoU: 0.8707\n"
     ]
    },
    {
     "name": "stderr",
     "output_type": "stream",
     "text": [
      "Validation: 100%|██████████████████████████████████████████████████████████████████████| 40/40 [00:21<00:00,  1.83it/s]\n"
     ]
    },
    {
     "name": "stdout",
     "output_type": "stream",
     "text": [
      "TP: 387.0000, FP: 60.0000, FN: 59.0000\n",
      "Accuracy: 0.7648, Recall: 0.8677, F1 Score: 0.8667\n",
      "Average IoU: 0.8703\n"
     ]
    },
    {
     "name": "stderr",
     "output_type": "stream",
     "text": [
      "Validation: 100%|██████████████████████████████████████████████████████████████████████| 40/40 [00:21<00:00,  1.83it/s]\n"
     ]
    },
    {
     "name": "stdout",
     "output_type": "stream",
     "text": [
      "TP: 377.0000, FP: 35.0000, FN: 74.0000\n",
      "Accuracy: 0.7757, Recall: 0.8359, F1 Score: 0.8737\n",
      "Average IoU: 0.8726\n"
     ]
    },
    {
     "name": "stderr",
     "output_type": "stream",
     "text": [
      "Validation: 100%|██████████████████████████████████████████████████████████████████████| 40/40 [00:21<00:00,  1.83it/s]\n"
     ]
    },
    {
     "name": "stdout",
     "output_type": "stream",
     "text": [
      "TP: 377.0000, FP: 42.0000, FN: 73.0000\n",
      "Accuracy: 0.7663, Recall: 0.8378, F1 Score: 0.8677\n",
      "Average IoU: 0.8725\n"
     ]
    },
    {
     "name": "stderr",
     "output_type": "stream",
     "text": [
      "Validation: 100%|██████████████████████████████████████████████████████████████████████| 40/40 [00:21<00:00,  1.83it/s]\n"
     ]
    },
    {
     "name": "stdout",
     "output_type": "stream",
     "text": [
      "TP: 381.0000, FP: 48.0000, FN: 68.0000\n",
      "Accuracy: 0.7666, Recall: 0.8486, F1 Score: 0.8679\n",
      "Average IoU: 0.8714\n"
     ]
    },
    {
     "name": "stderr",
     "output_type": "stream",
     "text": [
      "Validation: 100%|██████████████████████████████████████████████████████████████████████| 40/40 [00:21<00:00,  1.83it/s]\n"
     ]
    },
    {
     "name": "stdout",
     "output_type": "stream",
     "text": [
      "TP: 384.0000, FP: 49.0000, FN: 64.0000\n",
      "Accuracy: 0.7726, Recall: 0.8571, F1 Score: 0.8717\n",
      "Average IoU: 0.8709\n"
     ]
    },
    {
     "name": "stderr",
     "output_type": "stream",
     "text": [
      "Validation: 100%|██████████████████████████████████████████████████████████████████████| 40/40 [00:21<00:00,  1.83it/s]\n"
     ]
    },
    {
     "name": "stdout",
     "output_type": "stream",
     "text": [
      "TP: 386.0000, FP: 50.0000, FN: 62.0000\n",
      "Accuracy: 0.7751, Recall: 0.8616, F1 Score: 0.8733\n",
      "Average IoU: 0.8705\n"
     ]
    },
    {
     "name": "stderr",
     "output_type": "stream",
     "text": [
      "Validation: 100%|██████████████████████████████████████████████████████████████████████| 40/40 [00:21<00:00,  1.83it/s]\n"
     ]
    },
    {
     "name": "stdout",
     "output_type": "stream",
     "text": [
      "TP: 374.0000, FP: 31.0000, FN: 80.0000\n",
      "Accuracy: 0.7711, Recall: 0.8238, F1 Score: 0.8708\n",
      "Average IoU: 0.8734\n"
     ]
    },
    {
     "name": "stderr",
     "output_type": "stream",
     "text": [
      "Validation: 100%|██████████████████████████████████████████████████████████████████████| 40/40 [00:21<00:00,  1.83it/s]\n"
     ]
    },
    {
     "name": "stdout",
     "output_type": "stream",
     "text": [
      "TP: 374.0000, FP: 36.0000, FN: 79.0000\n",
      "Accuracy: 0.7648, Recall: 0.8256, F1 Score: 0.8667\n",
      "Average IoU: 0.8733\n"
     ]
    },
    {
     "name": "stderr",
     "output_type": "stream",
     "text": [
      "Validation: 100%|██████████████████████████████████████████████████████████████████████| 40/40 [00:22<00:00,  1.82it/s]\n"
     ]
    },
    {
     "name": "stdout",
     "output_type": "stream",
     "text": [
      "TP: 378.0000, FP: 38.0000, FN: 75.0000\n",
      "Accuracy: 0.7699, Recall: 0.8344, F1 Score: 0.8700\n",
      "Average IoU: 0.8727\n"
     ]
    },
    {
     "name": "stderr",
     "output_type": "stream",
     "text": [
      "Validation: 100%|██████████████████████████████████████████████████████████████████████| 40/40 [00:21<00:00,  1.83it/s]\n"
     ]
    },
    {
     "name": "stdout",
     "output_type": "stream",
     "text": [
      "TP: 380.0000, FP: 39.0000, FN: 72.0000\n",
      "Accuracy: 0.7739, Recall: 0.8407, F1 Score: 0.8726\n",
      "Average IoU: 0.8725\n"
     ]
    },
    {
     "name": "stderr",
     "output_type": "stream",
     "text": [
      "Validation: 100%|██████████████████████████████████████████████████████████████████████| 40/40 [00:21<00:00,  1.83it/s]\n"
     ]
    },
    {
     "name": "stdout",
     "output_type": "stream",
     "text": [
      "TP: 381.0000, FP: 39.0000, FN: 71.0000\n",
      "Accuracy: 0.7760, Recall: 0.8429, F1 Score: 0.8739\n",
      "Average IoU: 0.8720\n"
     ]
    },
    {
     "name": "stderr",
     "output_type": "stream",
     "text": [
      "Validation: 100%|██████████████████████████████████████████████████████████████████████| 40/40 [00:21<00:00,  1.83it/s]\n"
     ]
    },
    {
     "name": "stdout",
     "output_type": "stream",
     "text": [
      "TP: 364.0000, FP: 26.0000, FN: 92.0000\n",
      "Accuracy: 0.7552, Recall: 0.7982, F1 Score: 0.8605\n",
      "Average IoU: 0.8739\n"
     ]
    },
    {
     "name": "stderr",
     "output_type": "stream",
     "text": [
      "Validation: 100%|██████████████████████████████████████████████████████████████████████| 40/40 [00:21<00:00,  1.82it/s]\n"
     ]
    },
    {
     "name": "stdout",
     "output_type": "stream",
     "text": [
      "TP: 364.0000, FP: 28.0000, FN: 92.0000\n",
      "Accuracy: 0.7521, Recall: 0.7982, F1 Score: 0.8585\n",
      "Average IoU: 0.8739\n"
     ]
    },
    {
     "name": "stderr",
     "output_type": "stream",
     "text": [
      "Validation: 100%|██████████████████████████████████████████████████████████████████████| 40/40 [00:21<00:00,  1.82it/s]\n"
     ]
    },
    {
     "name": "stdout",
     "output_type": "stream",
     "text": [
      "TP: 368.0000, FP: 29.0000, FN: 88.0000\n",
      "Accuracy: 0.7588, Recall: 0.8070, F1 Score: 0.8628\n",
      "Average IoU: 0.8734\n"
     ]
    },
    {
     "name": "stderr",
     "output_type": "stream",
     "text": [
      "Validation: 100%|██████████████████████████████████████████████████████████████████████| 40/40 [00:21<00:00,  1.83it/s]\n"
     ]
    },
    {
     "name": "stdout",
     "output_type": "stream",
     "text": [
      "TP: 369.0000, FP: 29.0000, FN: 87.0000\n",
      "Accuracy: 0.7608, Recall: 0.8092, F1 Score: 0.8642\n",
      "Average IoU: 0.8736\n"
     ]
    },
    {
     "name": "stderr",
     "output_type": "stream",
     "text": [
      "Validation: 100%|██████████████████████████████████████████████████████████████████████| 40/40 [00:21<00:00,  1.82it/s]\n"
     ]
    },
    {
     "name": "stdout",
     "output_type": "stream",
     "text": [
      "TP: 369.0000, FP: 29.0000, FN: 87.0000\n",
      "Accuracy: 0.7608, Recall: 0.8092, F1 Score: 0.8642\n",
      "Average IoU: 0.8736\n"
     ]
    },
    {
     "name": "stderr",
     "output_type": "stream",
     "text": [
      "Validation: 100%|██████████████████████████████████████████████████████████████████████| 40/40 [00:21<00:00,  1.83it/s]\n"
     ]
    },
    {
     "name": "stdout",
     "output_type": "stream",
     "text": [
      "TP: 343.0000, FP: 13.0000, FN: 121.0000\n",
      "Accuracy: 0.7191, Recall: 0.7392, F1 Score: 0.8366\n",
      "Average IoU: 0.8754\n"
     ]
    },
    {
     "name": "stderr",
     "output_type": "stream",
     "text": [
      "Validation: 100%|██████████████████████████████████████████████████████████████████████| 40/40 [00:21<00:00,  1.82it/s]\n"
     ]
    },
    {
     "name": "stdout",
     "output_type": "stream",
     "text": [
      "TP: 343.0000, FP: 14.0000, FN: 121.0000\n",
      "Accuracy: 0.7176, Recall: 0.7392, F1 Score: 0.8356\n",
      "Average IoU: 0.8754\n"
     ]
    },
    {
     "name": "stderr",
     "output_type": "stream",
     "text": [
      "Validation: 100%|██████████████████████████████████████████████████████████████████████| 40/40 [00:21<00:00,  1.82it/s]\n"
     ]
    },
    {
     "name": "stdout",
     "output_type": "stream",
     "text": [
      "TP: 347.0000, FP: 15.0000, FN: 117.0000\n",
      "Accuracy: 0.7244, Recall: 0.7478, F1 Score: 0.8402\n",
      "Average IoU: 0.8748\n"
     ]
    },
    {
     "name": "stderr",
     "output_type": "stream",
     "text": [
      "Validation: 100%|██████████████████████████████████████████████████████████████████████| 40/40 [00:21<00:00,  1.83it/s]\n"
     ]
    },
    {
     "name": "stdout",
     "output_type": "stream",
     "text": [
      "TP: 348.0000, FP: 15.0000, FN: 116.0000\n",
      "Accuracy: 0.7265, Recall: 0.7500, F1 Score: 0.8416\n",
      "Average IoU: 0.8750\n"
     ]
    },
    {
     "name": "stderr",
     "output_type": "stream",
     "text": [
      "Validation: 100%|██████████████████████████████████████████████████████████████████████| 40/40 [00:21<00:00,  1.83it/s]"
     ]
    },
    {
     "name": "stdout",
     "output_type": "stream",
     "text": [
      "TP: 348.0000, FP: 15.0000, FN: 116.0000\n",
      "Accuracy: 0.7265, Recall: 0.7500, F1 Score: 0.8416\n",
      "Average IoU: 0.8750\n"
     ]
    },
    {
     "name": "stderr",
     "output_type": "stream",
     "text": [
      "\n"
     ]
    }
   ],
   "source": [
    "def evaluate_with_parameters(model, data_loader, device, iou_threshold, nms_threshold, confidence_threshold):\n",
    "    return evaluate(model, data_loader, device, iou_threshold, nms_threshold, confidence_threshold)[2]  # Extracting F1 score\n",
    "\n",
    "iou_thresholds = np.arange(0.1, 0.7, 0.1)\n",
    "confidence_thresholds = np.arange(0.4, 1.0, 0.1)\n",
    "nms_thresholds = np.arange(0.05, 0.3, 0.05)\n",
    "\n",
    "f1_scores = np.zeros((len(iou_thresholds), len(confidence_thresholds), len(nms_thresholds)))\n",
    "\n",
    "# Loop through different parameter values and compute F1 score\n",
    "for i, iou_thresh in enumerate(iou_thresholds):\n",
    "    for j, confidence_thresh in enumerate(confidence_thresholds):\n",
    "        for k, nms_thresh in enumerate(nms_thresholds):\n",
    "            f1_scores[i, j, k] = evaluate_with_parameters(model, validation_data_loader, device,\n",
    "                                                          iou_thresh, nms_thresh, confidence_thresh)"
   ]
  },
  {
   "cell_type": "code",
   "execution_count": 38,
   "id": "232a79af-9b7f-4862-ab12-be3d422285e4",
   "metadata": {},
   "outputs": [
    {
     "name": "stdout",
     "output_type": "stream",
     "text": [
      "Best F1 Score: 0.9122\n",
      "Corresponding Parameters:\n",
      "IoU Threshold: 0.10\n",
      "Confidence Threshold: 0.40\n",
      "NMS Threshold: 0.05\n"
     ]
    },
    {
     "data": {
      "image/png": "[encoded data removed]",
      "text/plain": [
       "<Figure size 800x2000 with 3 Axes>"
      ]
     },
     "metadata": {},
     "output_type": "display_data"
    }
   ],
   "source": [
    "best_indices = np.unravel_index(np.argmax(f1_scores), f1_scores.shape)\n",
    "\n",
    "best_iou_threshold = iou_thresholds[best_indices[0]]\n",
    "best_confidence_threshold = confidence_thresholds[best_indices[1]]\n",
    "best_nms_threshold = nms_thresholds[best_indices[2]]\n",
    "best_f1_score = f1_scores[best_indices]\n",
    "\n",
    "print(f\"Best F1 Score: {best_f1_score:.4f}\")\n",
    "print(f\"Corresponding Parameters:\")\n",
    "print(f\"IoU Threshold: {best_iou_threshold:.2f}\")\n",
    "print(f\"Confidence Threshold: {best_confidence_threshold:.2f}\")\n",
    "print(f\"NMS Threshold: {best_nms_threshold:.2f}\")\n",
    "\n",
    "fig, ax = plt.subplots(3, 1, figsize=(8, 20))\n",
    "\n",
    "# Plot for IoU Threshold\n",
    "for i in range(len(confidence_thresholds)):\n",
    "    for j in range(len(nms_thresholds)):\n",
    "        label = f'Conf: {confidence_thresholds[i]:.2f}, NMS: {nms_thresholds[j]:.2f}'\n",
    "        ax[0].plot(iou_thresholds, f1_scores[:, i, j], label=label)\n",
    "ax[0].set_title('F1 Score vs IoU Threshold')\n",
    "ax[0].set_xlabel('IoU Threshold')\n",
    "ax[0].set_ylabel('F1 Score')\n",
    "#ax[0].legend(loc='upper left', bbox_to_anchor=(1, 1)) \n",
    "\n",
    "# Plot for Confidence Threshold\n",
    "for i in range(len(iou_thresholds)):\n",
    "    for j in range(len(nms_thresholds)):\n",
    "        label = f'IoU: {iou_thresholds[i]:.2f}, NMS: {nms_thresholds[j]:.2f}'\n",
    "        ax[1].plot(confidence_thresholds, f1_scores[i, :, j], label=label)\n",
    "ax[1].set_title('F1 Score vs Confidence Threshold')\n",
    "ax[1].set_xlabel('Confidence Threshold')\n",
    "ax[1].set_ylabel('F1 Score')\n",
    "#ax[1].legend(loc='upper left', bbox_to_anchor=(1, 1))\n",
    "\n",
    "# Plot for NMS Threshold\n",
    "for i in range(len(iou_thresholds)):\n",
    "    for j in range(len(confidence_thresholds)):\n",
    "        label = f'IoU: {iou_thresholds[i]:.2f}, Conf: {confidence_thresholds[j]:.2f}'\n",
    "        ax[2].plot(nms_thresholds, f1_scores[i, j, :], label=label)\n",
    "ax[2].set_title('F1 Score vs NMS Threshold')\n",
    "ax[2].set_xlabel('NMS Threshold')\n",
    "ax[2].set_ylabel('F1 Score')\n",
    "#ax[2].legend(loc='upper left', bbox_to_anchor=(1, 1))\n",
    "\n",
    "plt.show()"
   ]
  },
  {
   "cell_type": "code",
   "execution_count": 41,
   "id": "b4e46455-8df6-4f0f-b1c4-dd11e4ecd378",
   "metadata": {},
   "outputs": [
    {
     "name": "stdout",
     "output_type": "stream",
     "text": [
      "loading annotations into memory...\n",
      "Done (t=0.00s)\n",
      "creating index...\n",
      "index created!\n"
     ]
    }
   ],
   "source": [
    "test_data_dir = './furniture.v3i.coco/test'\n",
    "test_coco = './furniture.v3i.coco/test/_annotations.coco.json'\n",
    "\n",
    "test_dataset = myOwnDataset(root=test_data_dir,\n",
    "                          annotation=test_coco,\n",
    "                          transforms=get_transform()\n",
    "                          )\n",
    "\n",
    "test_data_loader = torch.utils.data.DataLoader(\n",
    "    test_dataset,\n",
    "    batch_size=train_batch_size,\n",
    "    shuffle=False,\n",
    "    num_workers=0,\n",
    "    collate_fn=collate_fn\n",
    ")"
   ]
  },
  {
   "cell_type": "code",
   "execution_count": 42,
   "id": "c9963100-757d-460e-bc51-d72c15da6cd4",
   "metadata": {},
   "outputs": [
    {
     "name": "stderr",
     "output_type": "stream",
     "text": [
      "Validation: 100%|██████████████████████████████████████████████████████████████████████| 17/17 [00:10<00:00,  1.68it/s]"
     ]
    },
    {
     "name": "stdout",
     "output_type": "stream",
     "text": [
      "TP: 152.0000, FP: 15.0000, FN: 4.0000\n",
      "Accuracy: 0.8889, Recall: 0.9744, F1 Score: 0.9412\n",
      "Average IoU: 0.8737\n"
     ]
    },
    {
     "name": "stderr",
     "output_type": "stream",
     "text": [
      "\n"
     ]
    },
    {
     "data": {
      "text/plain": [
       "(0.8888888888888888, 0.9743589743589743, 0.9411764705882353, 0.87373126)"
      ]
     },
     "execution_count": 42,
     "metadata": {},
     "output_type": "execute_result"
    }
   ],
   "source": [
    "evaluate(model, test_data_loader, device, iou_threshold=0.1, nms_threshold=0.05, confidence_threshold=0.4)"
   ]
  },
  {
   "cell_type": "code",
   "execution_count": 10,
   "id": "30468642",
   "metadata": {},
   "outputs": [],
   "source": [
    "def get_transform_test():\n",
    "    custom_transforms = []\n",
    "    #custom_transforms.append(torchvision.transforms.Resize((640, 640)))\n",
    "    custom_transforms.append(torchvision.transforms.ToTensor())\n",
    "    #custom_transforms.append(transforms.Normalize([0.162, 0.162, 0.163], [0.112, 0.112, 0.112]))\n",
    "    return torchvision.transforms.Compose(custom_transforms)"
   ]
  },
  {
   "cell_type": "code",
   "execution_count": 12,
   "id": "fe80ab36",
   "metadata": {},
   "outputs": [],
   "source": [
    "import random\n",
    "\n",
    "def visualize_prediction(model, data_loader, device, num_images=1, iou_threshold=0.5, confidence_threshold=0.5):\n",
    "    model.eval()\n",
    "\n",
    "    classes = {1:'bed', 2: 'chair', 3:'couch', 4:'table'}\n",
    "    # Get a batch of random images from the validation dataset\n",
    "    random_images, random_annotations = zip(*random.sample(list(data_loader.dataset), num_images))\n",
    "    random_images = [img.to(device) for img in random_images]\n",
    "\n",
    "    with torch.no_grad():\n",
    "        predictions = model(random_images)\n",
    "\n",
    "    for i in range(num_images):\n",
    "        img = random_images[i].cpu().numpy().transpose((1, 2, 0))\n",
    "        fig, ax = plt.subplots(1)\n",
    "        ax.imshow(img)\n",
    "\n",
    "        keep = ops.nms(predictions[i]['boxes'], predictions[i]['scores'], iou_threshold)\n",
    "        filtered_boxes = predictions[i]['boxes'][keep]\n",
    "        filtered_scores = predictions[i]['scores'][keep]\n",
    "        filtered_labels = predictions[i]['labels'][keep]\n",
    "\n",
    "        for box in random_annotations[i]['boxes']:\n",
    "            xmin, ymin, xmax, ymax = box.cpu().numpy()\n",
    "            rect = patches.Rectangle((xmin, ymin), xmax - xmin, ymax - ymin, linewidth=2, edgecolor='g', facecolor='none')\n",
    "            ax.add_patch(rect)\n",
    "\n",
    "        for box, score, label in zip(filtered_boxes, filtered_scores, filtered_labels):\n",
    "            if score >= confidence_threshold:\n",
    "                xmin, ymin, xmax, ymax = box.cpu().numpy()\n",
    "                rect = patches.Rectangle((xmin, ymin), xmax - xmin, ymax - ymin, linewidth=2, edgecolor='r', facecolor='none')\n",
    "                ax.add_patch(rect)\n",
    "                ax.text(xmin, ymin, f'{classes[label.item()]} {score:.2f}', fontsize=8, bbox=dict(facecolor='yellow', alpha=0.5))\n",
    "\n",
    "        plt.show()"
   ]
  },
  {
   "cell_type": "code",
   "execution_count": 13,
   "id": "32d7ddb5",
   "metadata": {},
   "outputs": [
    {
     "ename": "NameError",
     "evalue": "name 'model' is not defined",
     "output_type": "error",
     "traceback": [
      "\u001b[1;31m---------------------------------------------------------------------------\u001b[0m",
      "\u001b[1;31mNameError\u001b[0m                                 Traceback (most recent call last)",
      "Cell \u001b[1;32mIn[13], line 1\u001b[0m\n\u001b[1;32m----> 1\u001b[0m visualize_prediction(\u001b[43mmodel\u001b[49m, data_loader, device, num_images\u001b[38;5;241m=\u001b[39m\u001b[38;5;241m10\u001b[39m, iou_threshold\u001b[38;5;241m=\u001b[39m\u001b[38;5;241m0.07\u001b[39m, confidence_threshold\u001b[38;5;241m=\u001b[39m\u001b[38;5;241m0.8\u001b[39m)\n",
      "\u001b[1;31mNameError\u001b[0m: name 'model' is not defined"
     ]
    }
   ],
   "source": [
    "visualize_prediction(model, data_loader, device, num_images=10, iou_threshold=0.07, confidence_threshold=0.8)"
   ]
  },
  {
   "cell_type": "code",
   "execution_count": null,
   "id": "e9932561-9072-40c1-8ef9-8041b2366c65",
   "metadata": {},
   "outputs": [],
   "source": []
  }
 ],
 "metadata": {
  "kernelspec": {
   "display_name": "Python 3 (ipykernel)",
   "language": "python",
   "name": "python3"
  },
  "language_info": {
   "codemirror_mode": {
    "name": "ipython",
    "version": 3
   },
   "file_extension": ".py",
   "mimetype": "text/x-python",
   "name": "python",
   "nbconvert_exporter": "python",
   "pygments_lexer": "ipython3",
   "version": "3.11.7"
  }
 },
 "nbformat": 4,
 "nbformat_minor": 5
}
